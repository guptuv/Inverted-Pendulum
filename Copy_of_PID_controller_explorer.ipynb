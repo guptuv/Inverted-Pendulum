{
  "nbformat": 4,
  "nbformat_minor": 0,
  "metadata": {
    "colab": {
      "provenance": [],
      "collapsed_sections": [
        "1DDlkp5X8qeW",
        "Woh5Jc7QA5iE",
        "9HJDEOTMA8Au",
        "AkJOel0h_S0H"
      ],
      "include_colab_link": true
    },
    "kernelspec": {
      "name": "python3",
      "display_name": "Python 3"
    },
    "language_info": {
      "name": "python"
    },
    "widgets": {
      "application/vnd.jupyter.widget-state+json": {
        "37a4bb76f384473abb3d022fb528386b": {
          "model_module": "@jupyter-widgets/controls",
          "model_name": "HBoxModel",
          "model_module_version": "1.5.0",
          "state": {
            "_dom_classes": [],
            "_model_module": "@jupyter-widgets/controls",
            "_model_module_version": "1.5.0",
            "_model_name": "HBoxModel",
            "_view_count": null,
            "_view_module": "@jupyter-widgets/controls",
            "_view_module_version": "1.5.0",
            "_view_name": "HBoxView",
            "box_style": "",
            "children": [
              "IPY_MODEL_a56bb2dfb658459a8ac03b4334f90d81",
              "IPY_MODEL_a36424ed732342efb4326ad9932e7489"
            ],
            "layout": "IPY_MODEL_813baedf7063423da27c90e4fedad4be"
          }
        },
        "a56bb2dfb658459a8ac03b4334f90d81": {
          "model_module": "@jupyter-widgets/controls",
          "model_name": "VBoxModel",
          "model_module_version": "1.5.0",
          "state": {
            "_dom_classes": [],
            "_model_module": "@jupyter-widgets/controls",
            "_model_module_version": "1.5.0",
            "_model_name": "VBoxModel",
            "_view_count": null,
            "_view_module": "@jupyter-widgets/controls",
            "_view_module_version": "1.5.0",
            "_view_name": "VBoxView",
            "box_style": "",
            "children": [
              "IPY_MODEL_6563e5a6c8864f088749319b4616763f"
            ],
            "layout": "IPY_MODEL_653e8c08d4cf4c5f8f6f65a9fb58a8f9"
          }
        },
        "a36424ed732342efb4326ad9932e7489": {
          "model_module": "@jupyter-widgets/output",
          "model_name": "OutputModel",
          "model_module_version": "1.0.0",
          "state": {
            "_dom_classes": [],
            "_model_module": "@jupyter-widgets/output",
            "_model_module_version": "1.0.0",
            "_model_name": "OutputModel",
            "_view_count": null,
            "_view_module": "@jupyter-widgets/output",
            "_view_module_version": "1.0.0",
            "_view_name": "OutputView",
            "layout": "IPY_MODEL_138518ebf28c4cff99c21d8b8d6b7944",
            "msg_id": "",
            "outputs": []
          }
        },
        "813baedf7063423da27c90e4fedad4be": {
          "model_module": "@jupyter-widgets/base",
          "model_name": "LayoutModel",
          "model_module_version": "1.2.0",
          "state": {
            "_model_module": "@jupyter-widgets/base",
            "_model_module_version": "1.2.0",
            "_model_name": "LayoutModel",
            "_view_count": null,
            "_view_module": "@jupyter-widgets/base",
            "_view_module_version": "1.2.0",
            "_view_name": "LayoutView",
            "align_content": null,
            "align_items": null,
            "align_self": null,
            "border": null,
            "bottom": null,
            "display": null,
            "flex": null,
            "flex_flow": null,
            "grid_area": null,
            "grid_auto_columns": null,
            "grid_auto_flow": null,
            "grid_auto_rows": null,
            "grid_column": null,
            "grid_gap": null,
            "grid_row": null,
            "grid_template_areas": null,
            "grid_template_columns": null,
            "grid_template_rows": null,
            "height": null,
            "justify_content": null,
            "justify_items": null,
            "left": null,
            "margin": null,
            "max_height": null,
            "max_width": null,
            "min_height": null,
            "min_width": null,
            "object_fit": null,
            "object_position": null,
            "order": null,
            "overflow": null,
            "overflow_x": null,
            "overflow_y": null,
            "padding": null,
            "right": null,
            "top": null,
            "visibility": null,
            "width": null
          }
        },
        "6563e5a6c8864f088749319b4616763f": {
          "model_module": "@jupyter-widgets/controls",
          "model_name": "FloatSliderModel",
          "model_module_version": "1.5.0",
          "state": {
            "_dom_classes": [],
            "_model_module": "@jupyter-widgets/controls",
            "_model_module_version": "1.5.0",
            "_model_name": "FloatSliderModel",
            "_view_count": null,
            "_view_module": "@jupyter-widgets/controls",
            "_view_module_version": "1.5.0",
            "_view_name": "FloatSliderView",
            "continuous_update": true,
            "description": "Input",
            "description_tooltip": null,
            "disabled": false,
            "layout": "IPY_MODEL_c5c2c86aa8774dc089c3acaf08fa25be",
            "max": 1,
            "min": -1,
            "orientation": "horizontal",
            "readout": true,
            "readout_format": ".2f",
            "step": 0.1,
            "style": "IPY_MODEL_4e5926b0b0504991a08044fca4604813",
            "value": 0
          }
        },
        "653e8c08d4cf4c5f8f6f65a9fb58a8f9": {
          "model_module": "@jupyter-widgets/base",
          "model_name": "LayoutModel",
          "model_module_version": "1.2.0",
          "state": {
            "_model_module": "@jupyter-widgets/base",
            "_model_module_version": "1.2.0",
            "_model_name": "LayoutModel",
            "_view_count": null,
            "_view_module": "@jupyter-widgets/base",
            "_view_module_version": "1.2.0",
            "_view_name": "LayoutView",
            "align_content": null,
            "align_items": null,
            "align_self": null,
            "border": null,
            "bottom": null,
            "display": null,
            "flex": null,
            "flex_flow": null,
            "grid_area": null,
            "grid_auto_columns": null,
            "grid_auto_flow": null,
            "grid_auto_rows": null,
            "grid_column": null,
            "grid_gap": null,
            "grid_row": null,
            "grid_template_areas": null,
            "grid_template_columns": null,
            "grid_template_rows": null,
            "height": null,
            "justify_content": null,
            "justify_items": null,
            "left": null,
            "margin": null,
            "max_height": null,
            "max_width": null,
            "min_height": null,
            "min_width": null,
            "object_fit": null,
            "object_position": null,
            "order": null,
            "overflow": null,
            "overflow_x": null,
            "overflow_y": null,
            "padding": null,
            "right": null,
            "top": null,
            "visibility": null,
            "width": null
          }
        },
        "c5c2c86aa8774dc089c3acaf08fa25be": {
          "model_module": "@jupyter-widgets/base",
          "model_name": "LayoutModel",
          "model_module_version": "1.2.0",
          "state": {
            "_model_module": "@jupyter-widgets/base",
            "_model_module_version": "1.2.0",
            "_model_name": "LayoutModel",
            "_view_count": null,
            "_view_module": "@jupyter-widgets/base",
            "_view_module_version": "1.2.0",
            "_view_name": "LayoutView",
            "align_content": null,
            "align_items": null,
            "align_self": null,
            "border": null,
            "bottom": null,
            "display": null,
            "flex": null,
            "flex_flow": null,
            "grid_area": null,
            "grid_auto_columns": null,
            "grid_auto_flow": null,
            "grid_auto_rows": null,
            "grid_column": null,
            "grid_gap": null,
            "grid_row": null,
            "grid_template_areas": null,
            "grid_template_columns": null,
            "grid_template_rows": null,
            "height": null,
            "justify_content": null,
            "justify_items": null,
            "left": null,
            "margin": null,
            "max_height": null,
            "max_width": null,
            "min_height": null,
            "min_width": null,
            "object_fit": null,
            "object_position": null,
            "order": null,
            "overflow": null,
            "overflow_x": null,
            "overflow_y": null,
            "padding": null,
            "right": null,
            "top": null,
            "visibility": null,
            "width": null
          }
        },
        "4e5926b0b0504991a08044fca4604813": {
          "model_module": "@jupyter-widgets/controls",
          "model_name": "SliderStyleModel",
          "model_module_version": "1.5.0",
          "state": {
            "_model_module": "@jupyter-widgets/controls",
            "_model_module_version": "1.5.0",
            "_model_name": "SliderStyleModel",
            "_view_count": null,
            "_view_module": "@jupyter-widgets/base",
            "_view_module_version": "1.2.0",
            "_view_name": "StyleView",
            "description_width": "",
            "handle_color": null
          }
        },
        "138518ebf28c4cff99c21d8b8d6b7944": {
          "model_module": "@jupyter-widgets/base",
          "model_name": "LayoutModel",
          "model_module_version": "1.2.0",
          "state": {
            "_model_module": "@jupyter-widgets/base",
            "_model_module_version": "1.2.0",
            "_model_name": "LayoutModel",
            "_view_count": null,
            "_view_module": "@jupyter-widgets/base",
            "_view_module_version": "1.2.0",
            "_view_name": "LayoutView",
            "align_content": null,
            "align_items": null,
            "align_self": null,
            "border": null,
            "bottom": null,
            "display": null,
            "flex": null,
            "flex_flow": null,
            "grid_area": null,
            "grid_auto_columns": null,
            "grid_auto_flow": null,
            "grid_auto_rows": null,
            "grid_column": null,
            "grid_gap": null,
            "grid_row": null,
            "grid_template_areas": null,
            "grid_template_columns": null,
            "grid_template_rows": null,
            "height": null,
            "justify_content": null,
            "justify_items": null,
            "left": null,
            "margin": null,
            "max_height": null,
            "max_width": null,
            "min_height": null,
            "min_width": null,
            "object_fit": null,
            "object_position": null,
            "order": null,
            "overflow": null,
            "overflow_x": null,
            "overflow_y": null,
            "padding": null,
            "right": null,
            "top": null,
            "visibility": null,
            "width": null
          }
        },
        "cff5d695f97a46ce8a9d3a92304be52e": {
          "model_module": "@jupyter-widgets/controls",
          "model_name": "HBoxModel",
          "model_module_version": "1.5.0",
          "state": {
            "_dom_classes": [],
            "_model_module": "@jupyter-widgets/controls",
            "_model_module_version": "1.5.0",
            "_model_name": "HBoxModel",
            "_view_count": null,
            "_view_module": "@jupyter-widgets/controls",
            "_view_module_version": "1.5.0",
            "_view_name": "HBoxView",
            "box_style": "",
            "children": [
              "IPY_MODEL_2b995ff7df3b4e31b47500641cd59558",
              "IPY_MODEL_87777dc1e72941f9a3388777579ed204",
              "IPY_MODEL_3abdb5d0f03b45e08d51e3d86029c062"
            ],
            "layout": "IPY_MODEL_f6bfb07f9bc0483da07c4b2588017493"
          }
        },
        "2b995ff7df3b4e31b47500641cd59558": {
          "model_module": "@jupyter-widgets/output",
          "model_name": "OutputModel",
          "model_module_version": "1.0.0",
          "state": {
            "_dom_classes": [],
            "_model_module": "@jupyter-widgets/output",
            "_model_module_version": "1.0.0",
            "_model_name": "OutputModel",
            "_view_count": null,
            "_view_module": "@jupyter-widgets/output",
            "_view_module_version": "1.0.0",
            "_view_name": "OutputView",
            "layout": "IPY_MODEL_3a396b8cb2724e5ba12d50f1c136ba1d",
            "msg_id": "",
            "outputs": [
              {
                "output_type": "stream",
                "name": "stderr",
                "text": [
                  "\n",
                  "KeyboardInterrupt\n",
                  "\n"
                ]
              }
            ]
          }
        },
        "87777dc1e72941f9a3388777579ed204": {
          "model_module": "@jupyter-widgets/output",
          "model_name": "OutputModel",
          "model_module_version": "1.0.0",
          "state": {
            "_dom_classes": [],
            "_model_module": "@jupyter-widgets/output",
            "_model_module_version": "1.0.0",
            "_model_name": "OutputModel",
            "_view_count": null,
            "_view_module": "@jupyter-widgets/output",
            "_view_module_version": "1.0.0",
            "_view_name": "OutputView",
            "layout": "IPY_MODEL_75bfa9c70f30401bb8c7b92887bd1bc1",
            "msg_id": "",
            "outputs": [
              {
                "output_type": "stream",
                "name": "stderr",
                "text": [
                  "<ipython-input-10-8c5c567d1136>:58: MatplotlibDeprecationWarning: Setting data with a non sequence type is deprecated since 3.7 and will be remove two minor releases later\n",
                  "  line3.set_data(time_list[i], ang_hist[i])\n"
                ]
              },
              {
                "output_type": "error",
                "ename": "CalledProcessError",
                "evalue": "Command '['ffmpeg', '-f', 'rawvideo', '-vcodec', 'rawvideo', '-s', '600x400', '-pix_fmt', 'rgba', '-r', '20.0', '-loglevel', 'error', '-i', 'pipe:', '-vcodec', 'h264', '-pix_fmt', 'yuv420p', '-y', '/tmp/tmpjzmh4inn/temp.m4v']' returned non-zero exit status 255.",
                "traceback": [
                  "\u001b[0;31m---------------------------------------------------------------------------\u001b[0m",
                  "\u001b[0;31mKeyboardInterrupt\u001b[0m                         Traceback (most recent call last)",
                  "\u001b[0;32m/usr/local/lib/python3.10/dist-packages/matplotlib/animation.py\u001b[0m in \u001b[0;36msaving\u001b[0;34m(self, fig, outfile, dpi, *args, **kwargs)\u001b[0m\n\u001b[1;32m    232\u001b[0m         \u001b[0;32mtry\u001b[0m\u001b[0;34m:\u001b[0m\u001b[0;34m\u001b[0m\u001b[0;34m\u001b[0m\u001b[0m\n\u001b[0;32m--> 233\u001b[0;31m             \u001b[0;32myield\u001b[0m \u001b[0mself\u001b[0m\u001b[0;34m\u001b[0m\u001b[0;34m\u001b[0m\u001b[0m\n\u001b[0m\u001b[1;32m    234\u001b[0m         \u001b[0;32mfinally\u001b[0m\u001b[0;34m:\u001b[0m\u001b[0;34m\u001b[0m\u001b[0;34m\u001b[0m\u001b[0m\n",
                  "\u001b[0;32m/usr/local/lib/python3.10/dist-packages/matplotlib/animation.py\u001b[0m in \u001b[0;36msave\u001b[0;34m(self, filename, writer, fps, dpi, codec, bitrate, extra_args, metadata, extra_anim, savefig_kwargs, progress_callback)\u001b[0m\n\u001b[1;32m   1102\u001b[0m                     \u001b[0;31m# TODO: See if turning off blit is really necessary\u001b[0m\u001b[0;34m\u001b[0m\u001b[0;34m\u001b[0m\u001b[0m\n\u001b[0;32m-> 1103\u001b[0;31m                     \u001b[0manim\u001b[0m\u001b[0;34m.\u001b[0m\u001b[0m_draw_next_frame\u001b[0m\u001b[0;34m(\u001b[0m\u001b[0md\u001b[0m\u001b[0;34m,\u001b[0m \u001b[0mblit\u001b[0m\u001b[0;34m=\u001b[0m\u001b[0;32mFalse\u001b[0m\u001b[0;34m)\u001b[0m\u001b[0;34m\u001b[0m\u001b[0;34m\u001b[0m\u001b[0m\n\u001b[0m\u001b[1;32m   1104\u001b[0m                     \u001b[0;32mif\u001b[0m \u001b[0mprogress_callback\u001b[0m \u001b[0;32mis\u001b[0m \u001b[0;32mnot\u001b[0m \u001b[0;32mNone\u001b[0m\u001b[0;34m:\u001b[0m\u001b[0;34m\u001b[0m\u001b[0;34m\u001b[0m\u001b[0m\n",
                  "\u001b[0;32m/usr/local/lib/python3.10/dist-packages/matplotlib/animation.py\u001b[0m in \u001b[0;36m_draw_next_frame\u001b[0;34m(self, framedata, blit)\u001b[0m\n\u001b[1;32m   1138\u001b[0m         \u001b[0mself\u001b[0m\u001b[0;34m.\u001b[0m\u001b[0m_draw_frame\u001b[0m\u001b[0;34m(\u001b[0m\u001b[0mframedata\u001b[0m\u001b[0;34m)\u001b[0m\u001b[0;34m\u001b[0m\u001b[0;34m\u001b[0m\u001b[0m\n\u001b[0;32m-> 1139\u001b[0;31m         \u001b[0mself\u001b[0m\u001b[0;34m.\u001b[0m\u001b[0m_post_draw\u001b[0m\u001b[0;34m(\u001b[0m\u001b[0mframedata\u001b[0m\u001b[0;34m,\u001b[0m \u001b[0mblit\u001b[0m\u001b[0;34m)\u001b[0m\u001b[0;34m\u001b[0m\u001b[0;34m\u001b[0m\u001b[0m\n\u001b[0m\u001b[1;32m   1140\u001b[0m \u001b[0;34m\u001b[0m\u001b[0m\n",
                  "\u001b[0;32m/usr/local/lib/python3.10/dist-packages/matplotlib/animation.py\u001b[0m in \u001b[0;36m_post_draw\u001b[0;34m(self, framedata, blit)\u001b[0m\n\u001b[1;32m   1163\u001b[0m         \u001b[0;32melse\u001b[0m\u001b[0;34m:\u001b[0m\u001b[0;34m\u001b[0m\u001b[0;34m\u001b[0m\u001b[0m\n\u001b[0;32m-> 1164\u001b[0;31m             \u001b[0mself\u001b[0m\u001b[0;34m.\u001b[0m\u001b[0m_fig\u001b[0m\u001b[0;34m.\u001b[0m\u001b[0mcanvas\u001b[0m\u001b[0;34m.\u001b[0m\u001b[0mdraw_idle\u001b[0m\u001b[0;34m(\u001b[0m\u001b[0;34m)\u001b[0m\u001b[0;34m\u001b[0m\u001b[0;34m\u001b[0m\u001b[0m\n\u001b[0m\u001b[1;32m   1165\u001b[0m \u001b[0;34m\u001b[0m\u001b[0m\n",
                  "\u001b[0;32m/usr/local/lib/python3.10/dist-packages/matplotlib/backend_bases.py\u001b[0m in \u001b[0;36mdraw_idle\u001b[0;34m(self, *args, **kwargs)\u001b[0m\n\u001b[1;32m   2081\u001b[0m             \u001b[0;32mwith\u001b[0m \u001b[0mself\u001b[0m\u001b[0;34m.\u001b[0m\u001b[0m_idle_draw_cntx\u001b[0m\u001b[0;34m(\u001b[0m\u001b[0;34m)\u001b[0m\u001b[0;34m:\u001b[0m\u001b[0;34m\u001b[0m\u001b[0;34m\u001b[0m\u001b[0m\n\u001b[0;32m-> 2082\u001b[0;31m                 \u001b[0mself\u001b[0m\u001b[0;34m.\u001b[0m\u001b[0mdraw\u001b[0m\u001b[0;34m(\u001b[0m\u001b[0;34m*\u001b[0m\u001b[0margs\u001b[0m\u001b[0;34m,\u001b[0m \u001b[0;34m**\u001b[0m\u001b[0mkwargs\u001b[0m\u001b[0;34m)\u001b[0m\u001b[0;34m\u001b[0m\u001b[0;34m\u001b[0m\u001b[0m\n\u001b[0m\u001b[1;32m   2083\u001b[0m \u001b[0;34m\u001b[0m\u001b[0m\n",
                  "\u001b[0;32m/usr/local/lib/python3.10/dist-packages/matplotlib/backends/backend_agg.py\u001b[0m in \u001b[0;36mdraw\u001b[0;34m(self)\u001b[0m\n\u001b[1;32m    399\u001b[0m               else nullcontext()):\n\u001b[0;32m--> 400\u001b[0;31m             \u001b[0mself\u001b[0m\u001b[0;34m.\u001b[0m\u001b[0mfigure\u001b[0m\u001b[0;34m.\u001b[0m\u001b[0mdraw\u001b[0m\u001b[0;34m(\u001b[0m\u001b[0mself\u001b[0m\u001b[0;34m.\u001b[0m\u001b[0mrenderer\u001b[0m\u001b[0;34m)\u001b[0m\u001b[0;34m\u001b[0m\u001b[0;34m\u001b[0m\u001b[0m\n\u001b[0m\u001b[1;32m    401\u001b[0m             \u001b[0;31m# A GUI class may be need to update a window using this draw, so\u001b[0m\u001b[0;34m\u001b[0m\u001b[0;34m\u001b[0m\u001b[0m\n",
                  "\u001b[0;32m/usr/local/lib/python3.10/dist-packages/matplotlib/artist.py\u001b[0m in \u001b[0;36mdraw_wrapper\u001b[0;34m(artist, renderer, *args, **kwargs)\u001b[0m\n\u001b[1;32m     94\u001b[0m     \u001b[0;32mdef\u001b[0m \u001b[0mdraw_wrapper\u001b[0m\u001b[0;34m(\u001b[0m\u001b[0martist\u001b[0m\u001b[0;34m,\u001b[0m \u001b[0mrenderer\u001b[0m\u001b[0;34m,\u001b[0m \u001b[0;34m*\u001b[0m\u001b[0margs\u001b[0m\u001b[0;34m,\u001b[0m \u001b[0;34m**\u001b[0m\u001b[0mkwargs\u001b[0m\u001b[0;34m)\u001b[0m\u001b[0;34m:\u001b[0m\u001b[0;34m\u001b[0m\u001b[0;34m\u001b[0m\u001b[0m\n\u001b[0;32m---> 95\u001b[0;31m         \u001b[0mresult\u001b[0m \u001b[0;34m=\u001b[0m \u001b[0mdraw\u001b[0m\u001b[0;34m(\u001b[0m\u001b[0martist\u001b[0m\u001b[0;34m,\u001b[0m \u001b[0mrenderer\u001b[0m\u001b[0;34m,\u001b[0m \u001b[0;34m*\u001b[0m\u001b[0margs\u001b[0m\u001b[0;34m,\u001b[0m \u001b[0;34m**\u001b[0m\u001b[0mkwargs\u001b[0m\u001b[0;34m)\u001b[0m\u001b[0;34m\u001b[0m\u001b[0;34m\u001b[0m\u001b[0m\n\u001b[0m\u001b[1;32m     96\u001b[0m         \u001b[0;32mif\u001b[0m \u001b[0mrenderer\u001b[0m\u001b[0;34m.\u001b[0m\u001b[0m_rasterizing\u001b[0m\u001b[0;34m:\u001b[0m\u001b[0;34m\u001b[0m\u001b[0;34m\u001b[0m\u001b[0m\n",
                  "\u001b[0;32m/usr/local/lib/python3.10/dist-packages/matplotlib/artist.py\u001b[0m in \u001b[0;36mdraw_wrapper\u001b[0;34m(artist, renderer)\u001b[0m\n\u001b[1;32m     71\u001b[0m \u001b[0;34m\u001b[0m\u001b[0m\n\u001b[0;32m---> 72\u001b[0;31m             \u001b[0;32mreturn\u001b[0m \u001b[0mdraw\u001b[0m\u001b[0;34m(\u001b[0m\u001b[0martist\u001b[0m\u001b[0;34m,\u001b[0m \u001b[0mrenderer\u001b[0m\u001b[0;34m)\u001b[0m\u001b[0;34m\u001b[0m\u001b[0;34m\u001b[0m\u001b[0m\n\u001b[0m\u001b[1;32m     73\u001b[0m         \u001b[0;32mfinally\u001b[0m\u001b[0;34m:\u001b[0m\u001b[0;34m\u001b[0m\u001b[0;34m\u001b[0m\u001b[0m\n",
                  "\u001b[0;32m/usr/local/lib/python3.10/dist-packages/matplotlib/figure.py\u001b[0m in \u001b[0;36mdraw\u001b[0;34m(self, renderer)\u001b[0m\n\u001b[1;32m   3139\u001b[0m             \u001b[0mself\u001b[0m\u001b[0;34m.\u001b[0m\u001b[0mpatch\u001b[0m\u001b[0;34m.\u001b[0m\u001b[0mdraw\u001b[0m\u001b[0;34m(\u001b[0m\u001b[0mrenderer\u001b[0m\u001b[0;34m)\u001b[0m\u001b[0;34m\u001b[0m\u001b[0;34m\u001b[0m\u001b[0m\n\u001b[0;32m-> 3140\u001b[0;31m             mimage._draw_list_compositing_images(\n\u001b[0m\u001b[1;32m   3141\u001b[0m                 renderer, self, artists, self.suppressComposite)\n",
                  "\u001b[0;32m/usr/local/lib/python3.10/dist-packages/matplotlib/image.py\u001b[0m in \u001b[0;36m_draw_list_compositing_images\u001b[0;34m(renderer, parent, artists, suppress_composite)\u001b[0m\n\u001b[1;32m    130\u001b[0m         \u001b[0;32mfor\u001b[0m \u001b[0ma\u001b[0m \u001b[0;32min\u001b[0m \u001b[0martists\u001b[0m\u001b[0;34m:\u001b[0m\u001b[0;34m\u001b[0m\u001b[0;34m\u001b[0m\u001b[0m\n\u001b[0;32m--> 131\u001b[0;31m             \u001b[0ma\u001b[0m\u001b[0;34m.\u001b[0m\u001b[0mdraw\u001b[0m\u001b[0;34m(\u001b[0m\u001b[0mrenderer\u001b[0m\u001b[0;34m)\u001b[0m\u001b[0;34m\u001b[0m\u001b[0;34m\u001b[0m\u001b[0m\n\u001b[0m\u001b[1;32m    132\u001b[0m     \u001b[0;32melse\u001b[0m\u001b[0;34m:\u001b[0m\u001b[0;34m\u001b[0m\u001b[0;34m\u001b[0m\u001b[0m\n",
                  "\u001b[0;32m/usr/local/lib/python3.10/dist-packages/matplotlib/artist.py\u001b[0m in \u001b[0;36mdraw_wrapper\u001b[0;34m(artist, renderer)\u001b[0m\n\u001b[1;32m     71\u001b[0m \u001b[0;34m\u001b[0m\u001b[0m\n\u001b[0;32m---> 72\u001b[0;31m             \u001b[0;32mreturn\u001b[0m \u001b[0mdraw\u001b[0m\u001b[0;34m(\u001b[0m\u001b[0martist\u001b[0m\u001b[0;34m,\u001b[0m \u001b[0mrenderer\u001b[0m\u001b[0;34m)\u001b[0m\u001b[0;34m\u001b[0m\u001b[0;34m\u001b[0m\u001b[0m\n\u001b[0m\u001b[1;32m     73\u001b[0m         \u001b[0;32mfinally\u001b[0m\u001b[0;34m:\u001b[0m\u001b[0;34m\u001b[0m\u001b[0;34m\u001b[0m\u001b[0m\n",
                  "\u001b[0;32m/usr/local/lib/python3.10/dist-packages/matplotlib/axes/_base.py\u001b[0m in \u001b[0;36mdraw\u001b[0;34m(self, renderer)\u001b[0m\n\u001b[1;32m   3027\u001b[0m \u001b[0;34m\u001b[0m\u001b[0m\n\u001b[0;32m-> 3028\u001b[0;31m         \u001b[0mself\u001b[0m\u001b[0;34m.\u001b[0m\u001b[0m_update_title_position\u001b[0m\u001b[0;34m(\u001b[0m\u001b[0mrenderer\u001b[0m\u001b[0;34m)\u001b[0m\u001b[0;34m\u001b[0m\u001b[0;34m\u001b[0m\u001b[0m\n\u001b[0m\u001b[1;32m   3029\u001b[0m \u001b[0;34m\u001b[0m\u001b[0m\n",
                  "\u001b[0;32m/usr/local/lib/python3.10/dist-packages/matplotlib/axes/_base.py\u001b[0m in \u001b[0;36m_update_title_position\u001b[0;34m(self, renderer)\u001b[0m\n\u001b[1;32m   2971\u001b[0m                 \u001b[0;32mif\u001b[0m \u001b[0mtitle\u001b[0m\u001b[0;34m.\u001b[0m\u001b[0mget_text\u001b[0m\u001b[0;34m(\u001b[0m\u001b[0;34m)\u001b[0m\u001b[0;34m:\u001b[0m\u001b[0;34m\u001b[0m\u001b[0;34m\u001b[0m\u001b[0m\n\u001b[0;32m-> 2972\u001b[0;31m                     \u001b[0max\u001b[0m\u001b[0;34m.\u001b[0m\u001b[0myaxis\u001b[0m\u001b[0;34m.\u001b[0m\u001b[0mget_tightbbox\u001b[0m\u001b[0;34m(\u001b[0m\u001b[0mrenderer\u001b[0m\u001b[0;34m)\u001b[0m  \u001b[0;31m# update offsetText\u001b[0m\u001b[0;34m\u001b[0m\u001b[0;34m\u001b[0m\u001b[0m\n\u001b[0m\u001b[1;32m   2973\u001b[0m                     \u001b[0;32mif\u001b[0m \u001b[0max\u001b[0m\u001b[0;34m.\u001b[0m\u001b[0myaxis\u001b[0m\u001b[0;34m.\u001b[0m\u001b[0moffsetText\u001b[0m\u001b[0;34m.\u001b[0m\u001b[0mget_text\u001b[0m\u001b[0;34m(\u001b[0m\u001b[0;34m)\u001b[0m\u001b[0;34m:\u001b[0m\u001b[0;34m\u001b[0m\u001b[0;34m\u001b[0m\u001b[0m\n",
                  "\u001b[0;32m/usr/local/lib/python3.10/dist-packages/matplotlib/axis.py\u001b[0m in \u001b[0;36mget_tightbbox\u001b[0;34m(self, renderer, for_layout_only)\u001b[0m\n\u001b[1;32m   1327\u001b[0m         \u001b[0;31m# go back to just this axis's tick labels\u001b[0m\u001b[0;34m\u001b[0m\u001b[0;34m\u001b[0m\u001b[0m\n\u001b[0;32m-> 1328\u001b[0;31m         \u001b[0mtlb1\u001b[0m\u001b[0;34m,\u001b[0m \u001b[0mtlb2\u001b[0m \u001b[0;34m=\u001b[0m \u001b[0mself\u001b[0m\u001b[0;34m.\u001b[0m\u001b[0m_get_ticklabel_bboxes\u001b[0m\u001b[0;34m(\u001b[0m\u001b[0mticks_to_draw\u001b[0m\u001b[0;34m,\u001b[0m \u001b[0mrenderer\u001b[0m\u001b[0;34m)\u001b[0m\u001b[0;34m\u001b[0m\u001b[0;34m\u001b[0m\u001b[0m\n\u001b[0m\u001b[1;32m   1329\u001b[0m \u001b[0;34m\u001b[0m\u001b[0m\n",
                  "\u001b[0;32m/usr/local/lib/python3.10/dist-packages/matplotlib/axis.py\u001b[0m in \u001b[0;36m_get_ticklabel_bboxes\u001b[0;34m(self, ticks, renderer)\u001b[0m\n\u001b[1;32m   1303\u001b[0m             \u001b[0mrenderer\u001b[0m \u001b[0;34m=\u001b[0m \u001b[0mself\u001b[0m\u001b[0;34m.\u001b[0m\u001b[0mfigure\u001b[0m\u001b[0;34m.\u001b[0m\u001b[0m_get_renderer\u001b[0m\u001b[0;34m(\u001b[0m\u001b[0;34m)\u001b[0m\u001b[0;34m\u001b[0m\u001b[0;34m\u001b[0m\u001b[0m\n\u001b[0;32m-> 1304\u001b[0;31m         return ([tick.label1.get_window_extent(renderer)\n\u001b[0m\u001b[1;32m   1305\u001b[0m                  for tick in ticks if tick.label1.get_visible()],\n",
                  "\u001b[0;32m/usr/local/lib/python3.10/dist-packages/matplotlib/axis.py\u001b[0m in \u001b[0;36m<listcomp>\u001b[0;34m(.0)\u001b[0m\n\u001b[1;32m   1303\u001b[0m             \u001b[0mrenderer\u001b[0m \u001b[0;34m=\u001b[0m \u001b[0mself\u001b[0m\u001b[0;34m.\u001b[0m\u001b[0mfigure\u001b[0m\u001b[0;34m.\u001b[0m\u001b[0m_get_renderer\u001b[0m\u001b[0;34m(\u001b[0m\u001b[0;34m)\u001b[0m\u001b[0;34m\u001b[0m\u001b[0;34m\u001b[0m\u001b[0m\n\u001b[0;32m-> 1304\u001b[0;31m         return ([tick.label1.get_window_extent(renderer)\n\u001b[0m\u001b[1;32m   1305\u001b[0m                  for tick in ticks if tick.label1.get_visible()],\n",
                  "\u001b[0;32m/usr/local/lib/python3.10/dist-packages/matplotlib/text.py\u001b[0m in \u001b[0;36mget_window_extent\u001b[0;34m(self, renderer, dpi)\u001b[0m\n\u001b[1;32m    961\u001b[0m             \u001b[0mx\u001b[0m\u001b[0;34m,\u001b[0m \u001b[0my\u001b[0m \u001b[0;34m=\u001b[0m \u001b[0mself\u001b[0m\u001b[0;34m.\u001b[0m\u001b[0mget_transform\u001b[0m\u001b[0;34m(\u001b[0m\u001b[0;34m)\u001b[0m\u001b[0;34m.\u001b[0m\u001b[0mtransform\u001b[0m\u001b[0;34m(\u001b[0m\u001b[0;34m(\u001b[0m\u001b[0mx\u001b[0m\u001b[0;34m,\u001b[0m \u001b[0my\u001b[0m\u001b[0;34m)\u001b[0m\u001b[0;34m)\u001b[0m\u001b[0;34m\u001b[0m\u001b[0;34m\u001b[0m\u001b[0m\n\u001b[0;32m--> 962\u001b[0;31m             \u001b[0mbbox\u001b[0m \u001b[0;34m=\u001b[0m \u001b[0mbbox\u001b[0m\u001b[0;34m.\u001b[0m\u001b[0mtranslated\u001b[0m\u001b[0;34m(\u001b[0m\u001b[0mx\u001b[0m\u001b[0;34m,\u001b[0m \u001b[0my\u001b[0m\u001b[0;34m)\u001b[0m\u001b[0;34m\u001b[0m\u001b[0;34m\u001b[0m\u001b[0m\n\u001b[0m\u001b[1;32m    963\u001b[0m             \u001b[0;32mreturn\u001b[0m \u001b[0mbbox\u001b[0m\u001b[0;34m\u001b[0m\u001b[0;34m\u001b[0m\u001b[0m\n",
                  "\u001b[0;32m/usr/local/lib/python3.10/dist-packages/matplotlib/transforms.py\u001b[0m in \u001b[0;36mtranslated\u001b[0;34m(self, tx, ty)\u001b[0m\n\u001b[1;32m    625\u001b[0m         \u001b[0;34m\"\"\"Construct a `Bbox` by translating this one by *tx* and *ty*.\"\"\"\u001b[0m\u001b[0;34m\u001b[0m\u001b[0;34m\u001b[0m\u001b[0m\n\u001b[0;32m--> 626\u001b[0;31m         \u001b[0;32mreturn\u001b[0m \u001b[0mBbox\u001b[0m\u001b[0;34m(\u001b[0m\u001b[0mself\u001b[0m\u001b[0;34m.\u001b[0m\u001b[0m_points\u001b[0m \u001b[0;34m+\u001b[0m \u001b[0;34m(\u001b[0m\u001b[0mtx\u001b[0m\u001b[0;34m,\u001b[0m \u001b[0mty\u001b[0m\u001b[0;34m)\u001b[0m\u001b[0;34m)\u001b[0m\u001b[0;34m\u001b[0m\u001b[0;34m\u001b[0m\u001b[0m\n\u001b[0m\u001b[1;32m    627\u001b[0m \u001b[0;34m\u001b[0m\u001b[0m\n",
                  "\u001b[0;31mKeyboardInterrupt\u001b[0m: ",
                  "\nDuring handling of the above exception, another exception occurred:\n",
                  "\u001b[0;31mCalledProcessError\u001b[0m                        Traceback (most recent call last)",
                  "\u001b[0;32m<ipython-input-10-8c5c567d1136>\u001b[0m in \u001b[0;36mdisplay_results\u001b[0;34m(goal_ang_interp)\u001b[0m\n\u001b[1;32m     78\u001b[0m     \u001b[0;32mwith\u001b[0m \u001b[0mwindow2\u001b[0m\u001b[0;34m:\u001b[0m\u001b[0;34m\u001b[0m\u001b[0;34m\u001b[0m\u001b[0m\n\u001b[1;32m     79\u001b[0m         \u001b[0;32mif\u001b[0m \u001b[0manimate_plots\u001b[0m\u001b[0;34m:\u001b[0m\u001b[0;34m\u001b[0m\u001b[0;34m\u001b[0m\u001b[0m\n\u001b[0;32m---> 80\u001b[0;31m             \u001b[0mdisplay\u001b[0m\u001b[0;34m(\u001b[0m\u001b[0mHTML\u001b[0m\u001b[0;34m(\u001b[0m\u001b[0mani_arm_vid2\u001b[0m\u001b[0;34m.\u001b[0m\u001b[0mto_html5_video\u001b[0m\u001b[0;34m(\u001b[0m\u001b[0;34m)\u001b[0m\u001b[0;34m)\u001b[0m\u001b[0;34m)\u001b[0m\u001b[0;34m\u001b[0m\u001b[0;34m\u001b[0m\u001b[0m\n\u001b[0m\u001b[1;32m     81\u001b[0m         \u001b[0;32melse\u001b[0m\u001b[0;34m:\u001b[0m\u001b[0;34m\u001b[0m\u001b[0;34m\u001b[0m\u001b[0m\n\u001b[1;32m     82\u001b[0m             \u001b[0mfig\u001b[0m \u001b[0;34m=\u001b[0m \u001b[0mplt\u001b[0m\u001b[0;34m.\u001b[0m\u001b[0mfigure\u001b[0m\u001b[0;34m(\u001b[0m\u001b[0mfigsize\u001b[0m\u001b[0;34m=\u001b[0m\u001b[0;34m(\u001b[0m\u001b[0;36m6\u001b[0m\u001b[0;34m,\u001b[0m \u001b[0;36m4\u001b[0m\u001b[0;34m)\u001b[0m\u001b[0;34m)\u001b[0m\u001b[0;34m\u001b[0m\u001b[0;34m\u001b[0m\u001b[0m\n",
                  "\u001b[0;32m/usr/local/lib/python3.10/dist-packages/matplotlib/animation.py\u001b[0m in \u001b[0;36mto_html5_video\u001b[0;34m(self, embed_limit)\u001b[0m\n\u001b[1;32m   1286\u001b[0m                                 \u001b[0mbitrate\u001b[0m\u001b[0;34m=\u001b[0m\u001b[0mmpl\u001b[0m\u001b[0;34m.\u001b[0m\u001b[0mrcParams\u001b[0m\u001b[0;34m[\u001b[0m\u001b[0;34m'animation.bitrate'\u001b[0m\u001b[0;34m]\u001b[0m\u001b[0;34m,\u001b[0m\u001b[0;34m\u001b[0m\u001b[0;34m\u001b[0m\u001b[0m\n\u001b[1;32m   1287\u001b[0m                                 fps=1000. / self._interval)\n\u001b[0;32m-> 1288\u001b[0;31m                 \u001b[0mself\u001b[0m\u001b[0;34m.\u001b[0m\u001b[0msave\u001b[0m\u001b[0;34m(\u001b[0m\u001b[0mstr\u001b[0m\u001b[0;34m(\u001b[0m\u001b[0mpath\u001b[0m\u001b[0;34m)\u001b[0m\u001b[0;34m,\u001b[0m \u001b[0mwriter\u001b[0m\u001b[0;34m=\u001b[0m\u001b[0mwriter\u001b[0m\u001b[0;34m)\u001b[0m\u001b[0;34m\u001b[0m\u001b[0;34m\u001b[0m\u001b[0m\n\u001b[0m\u001b[1;32m   1289\u001b[0m                 \u001b[0;31m# Now open and base64 encode.\u001b[0m\u001b[0;34m\u001b[0m\u001b[0;34m\u001b[0m\u001b[0m\n\u001b[1;32m   1290\u001b[0m                 \u001b[0mvid64\u001b[0m \u001b[0;34m=\u001b[0m \u001b[0mbase64\u001b[0m\u001b[0;34m.\u001b[0m\u001b[0mencodebytes\u001b[0m\u001b[0;34m(\u001b[0m\u001b[0mpath\u001b[0m\u001b[0;34m.\u001b[0m\u001b[0mread_bytes\u001b[0m\u001b[0;34m(\u001b[0m\u001b[0;34m)\u001b[0m\u001b[0;34m)\u001b[0m\u001b[0;34m\u001b[0m\u001b[0;34m\u001b[0m\u001b[0m\n",
                  "\u001b[0;32m/usr/local/lib/python3.10/dist-packages/matplotlib/animation.py\u001b[0m in \u001b[0;36msave\u001b[0;34m(self, filename, writer, fps, dpi, codec, bitrate, extra_args, metadata, extra_anim, savefig_kwargs, progress_callback)\u001b[0m\n\u001b[1;32m   1083\u001b[0m         \u001b[0;31m# callback a no-op; canvas.manager = None prevents resizing the GUI\u001b[0m\u001b[0;34m\u001b[0m\u001b[0;34m\u001b[0m\u001b[0m\n\u001b[1;32m   1084\u001b[0m         \u001b[0;31m# widget (both are likewise done in savefig()).\u001b[0m\u001b[0;34m\u001b[0m\u001b[0;34m\u001b[0m\u001b[0m\n\u001b[0;32m-> 1085\u001b[0;31m         \u001b[0;32mwith\u001b[0m \u001b[0mmpl\u001b[0m\u001b[0;34m.\u001b[0m\u001b[0mrc_context\u001b[0m\u001b[0;34m(\u001b[0m\u001b[0;34m{\u001b[0m\u001b[0;34m'savefig.bbox'\u001b[0m\u001b[0;34m:\u001b[0m \u001b[0;32mNone\u001b[0m\u001b[0;34m}\u001b[0m\u001b[0;34m)\u001b[0m\u001b[0;34m,\u001b[0m\u001b[0;31m \u001b[0m\u001b[0;31m\\\u001b[0m\u001b[0;34m\u001b[0m\u001b[0;34m\u001b[0m\u001b[0m\n\u001b[0m\u001b[1;32m   1086\u001b[0m              \u001b[0mwriter\u001b[0m\u001b[0;34m.\u001b[0m\u001b[0msaving\u001b[0m\u001b[0;34m(\u001b[0m\u001b[0mself\u001b[0m\u001b[0;34m.\u001b[0m\u001b[0m_fig\u001b[0m\u001b[0;34m,\u001b[0m \u001b[0mfilename\u001b[0m\u001b[0;34m,\u001b[0m \u001b[0mdpi\u001b[0m\u001b[0;34m)\u001b[0m\u001b[0;34m,\u001b[0m\u001b[0;31m \u001b[0m\u001b[0;31m\\\u001b[0m\u001b[0;34m\u001b[0m\u001b[0;34m\u001b[0m\u001b[0m\n\u001b[1;32m   1087\u001b[0m              cbook._setattr_cm(self._fig.canvas,\n",
                  "\u001b[0;32m/usr/lib/python3.10/contextlib.py\u001b[0m in \u001b[0;36m__exit__\u001b[0;34m(self, typ, value, traceback)\u001b[0m\n\u001b[1;32m    151\u001b[0m                 \u001b[0mvalue\u001b[0m \u001b[0;34m=\u001b[0m \u001b[0mtyp\u001b[0m\u001b[0;34m(\u001b[0m\u001b[0;34m)\u001b[0m\u001b[0;34m\u001b[0m\u001b[0;34m\u001b[0m\u001b[0m\n\u001b[1;32m    152\u001b[0m             \u001b[0;32mtry\u001b[0m\u001b[0;34m:\u001b[0m\u001b[0;34m\u001b[0m\u001b[0;34m\u001b[0m\u001b[0m\n\u001b[0;32m--> 153\u001b[0;31m                 \u001b[0mself\u001b[0m\u001b[0;34m.\u001b[0m\u001b[0mgen\u001b[0m\u001b[0;34m.\u001b[0m\u001b[0mthrow\u001b[0m\u001b[0;34m(\u001b[0m\u001b[0mtyp\u001b[0m\u001b[0;34m,\u001b[0m \u001b[0mvalue\u001b[0m\u001b[0;34m,\u001b[0m \u001b[0mtraceback\u001b[0m\u001b[0;34m)\u001b[0m\u001b[0;34m\u001b[0m\u001b[0;34m\u001b[0m\u001b[0m\n\u001b[0m\u001b[1;32m    154\u001b[0m             \u001b[0;32mexcept\u001b[0m \u001b[0mStopIteration\u001b[0m \u001b[0;32mas\u001b[0m \u001b[0mexc\u001b[0m\u001b[0;34m:\u001b[0m\u001b[0;34m\u001b[0m\u001b[0;34m\u001b[0m\u001b[0m\n\u001b[1;32m    155\u001b[0m                 \u001b[0;31m# Suppress StopIteration *unless* it's the same exception that\u001b[0m\u001b[0;34m\u001b[0m\u001b[0;34m\u001b[0m\u001b[0m\n",
                  "\u001b[0;32m/usr/local/lib/python3.10/dist-packages/matplotlib/animation.py\u001b[0m in \u001b[0;36msaving\u001b[0;34m(self, fig, outfile, dpi, *args, **kwargs)\u001b[0m\n\u001b[1;32m    233\u001b[0m             \u001b[0;32myield\u001b[0m \u001b[0mself\u001b[0m\u001b[0;34m\u001b[0m\u001b[0;34m\u001b[0m\u001b[0m\n\u001b[1;32m    234\u001b[0m         \u001b[0;32mfinally\u001b[0m\u001b[0;34m:\u001b[0m\u001b[0;34m\u001b[0m\u001b[0;34m\u001b[0m\u001b[0m\n\u001b[0;32m--> 235\u001b[0;31m             \u001b[0mself\u001b[0m\u001b[0;34m.\u001b[0m\u001b[0mfinish\u001b[0m\u001b[0;34m(\u001b[0m\u001b[0;34m)\u001b[0m\u001b[0;34m\u001b[0m\u001b[0;34m\u001b[0m\u001b[0m\n\u001b[0m\u001b[1;32m    236\u001b[0m \u001b[0;34m\u001b[0m\u001b[0m\n\u001b[1;32m    237\u001b[0m \u001b[0;34m\u001b[0m\u001b[0m\n",
                  "\u001b[0;32m/usr/local/lib/python3.10/dist-packages/matplotlib/animation.py\u001b[0m in \u001b[0;36mfinish\u001b[0;34m(self)\u001b[0m\n\u001b[1;32m    347\u001b[0m                 \"MovieWriter stderr:\\n%s\", err)\n\u001b[1;32m    348\u001b[0m         \u001b[0;32mif\u001b[0m \u001b[0mself\u001b[0m\u001b[0;34m.\u001b[0m\u001b[0m_proc\u001b[0m\u001b[0;34m.\u001b[0m\u001b[0mreturncode\u001b[0m\u001b[0;34m:\u001b[0m\u001b[0;34m\u001b[0m\u001b[0;34m\u001b[0m\u001b[0m\n\u001b[0;32m--> 349\u001b[0;31m             raise subprocess.CalledProcessError(\n\u001b[0m\u001b[1;32m    350\u001b[0m                 self._proc.returncode, self._proc.args, out, err)\n\u001b[1;32m    351\u001b[0m \u001b[0;34m\u001b[0m\u001b[0m\n",
                  "\u001b[0;31mCalledProcessError\u001b[0m: Command '['ffmpeg', '-f', 'rawvideo', '-vcodec', 'rawvideo', '-s', '600x400', '-pix_fmt', 'rgba', '-r', '20.0', '-loglevel', 'error', '-i', 'pipe:', '-vcodec', 'h264', '-pix_fmt', 'yuv420p', '-y', '/tmp/tmpjzmh4inn/temp.m4v']' returned non-zero exit status 255."
                ]
              }
            ]
          }
        },
        "3abdb5d0f03b45e08d51e3d86029c062": {
          "model_module": "@jupyter-widgets/output",
          "model_name": "OutputModel",
          "model_module_version": "1.0.0",
          "state": {
            "_dom_classes": [],
            "_model_module": "@jupyter-widgets/output",
            "_model_module_version": "1.0.0",
            "_model_name": "OutputModel",
            "_view_count": null,
            "_view_module": "@jupyter-widgets/output",
            "_view_module_version": "1.0.0",
            "_view_name": "OutputView",
            "layout": "IPY_MODEL_0f3ca51e34da4e4aa4c59613118fa9ef",
            "msg_id": "",
            "outputs": [
              {
                "output_type": "display_data",
                "data": {
                  "text/plain": "<Figure size 600x400 with 1 Axes>",
                  "image/png": "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\n"
                },
                "metadata": {}
              }
            ]
          }
        },
        "f6bfb07f9bc0483da07c4b2588017493": {
          "model_module": "@jupyter-widgets/base",
          "model_name": "LayoutModel",
          "model_module_version": "1.2.0",
          "state": {
            "_model_module": "@jupyter-widgets/base",
            "_model_module_version": "1.2.0",
            "_model_name": "LayoutModel",
            "_view_count": null,
            "_view_module": "@jupyter-widgets/base",
            "_view_module_version": "1.2.0",
            "_view_name": "LayoutView",
            "align_content": null,
            "align_items": null,
            "align_self": null,
            "border": null,
            "bottom": null,
            "display": null,
            "flex": null,
            "flex_flow": null,
            "grid_area": null,
            "grid_auto_columns": null,
            "grid_auto_flow": null,
            "grid_auto_rows": null,
            "grid_column": null,
            "grid_gap": null,
            "grid_row": null,
            "grid_template_areas": null,
            "grid_template_columns": null,
            "grid_template_rows": null,
            "height": null,
            "justify_content": null,
            "justify_items": null,
            "left": null,
            "margin": null,
            "max_height": null,
            "max_width": null,
            "min_height": null,
            "min_width": null,
            "object_fit": null,
            "object_position": null,
            "order": null,
            "overflow": null,
            "overflow_x": null,
            "overflow_y": null,
            "padding": null,
            "right": null,
            "top": null,
            "visibility": null,
            "width": null
          }
        },
        "3a396b8cb2724e5ba12d50f1c136ba1d": {
          "model_module": "@jupyter-widgets/base",
          "model_name": "LayoutModel",
          "model_module_version": "1.2.0",
          "state": {
            "_model_module": "@jupyter-widgets/base",
            "_model_module_version": "1.2.0",
            "_model_name": "LayoutModel",
            "_view_count": null,
            "_view_module": "@jupyter-widgets/base",
            "_view_module_version": "1.2.0",
            "_view_name": "LayoutView",
            "align_content": null,
            "align_items": null,
            "align_self": null,
            "border": "1px solid black",
            "bottom": null,
            "display": null,
            "flex": null,
            "flex_flow": null,
            "grid_area": null,
            "grid_auto_columns": null,
            "grid_auto_flow": null,
            "grid_auto_rows": null,
            "grid_column": null,
            "grid_gap": null,
            "grid_row": null,
            "grid_template_areas": null,
            "grid_template_columns": null,
            "grid_template_rows": null,
            "height": null,
            "justify_content": null,
            "justify_items": null,
            "left": null,
            "margin": null,
            "max_height": null,
            "max_width": null,
            "min_height": null,
            "min_width": null,
            "object_fit": null,
            "object_position": null,
            "order": null,
            "overflow": null,
            "overflow_x": null,
            "overflow_y": null,
            "padding": null,
            "right": null,
            "top": null,
            "visibility": null,
            "width": null
          }
        },
        "75bfa9c70f30401bb8c7b92887bd1bc1": {
          "model_module": "@jupyter-widgets/base",
          "model_name": "LayoutModel",
          "model_module_version": "1.2.0",
          "state": {
            "_model_module": "@jupyter-widgets/base",
            "_model_module_version": "1.2.0",
            "_model_name": "LayoutModel",
            "_view_count": null,
            "_view_module": "@jupyter-widgets/base",
            "_view_module_version": "1.2.0",
            "_view_name": "LayoutView",
            "align_content": null,
            "align_items": null,
            "align_self": null,
            "border": "1px solid black",
            "bottom": null,
            "display": null,
            "flex": null,
            "flex_flow": null,
            "grid_area": null,
            "grid_auto_columns": null,
            "grid_auto_flow": null,
            "grid_auto_rows": null,
            "grid_column": null,
            "grid_gap": null,
            "grid_row": null,
            "grid_template_areas": null,
            "grid_template_columns": null,
            "grid_template_rows": null,
            "height": null,
            "justify_content": null,
            "justify_items": null,
            "left": null,
            "margin": null,
            "max_height": null,
            "max_width": null,
            "min_height": null,
            "min_width": null,
            "object_fit": null,
            "object_position": null,
            "order": null,
            "overflow": null,
            "overflow_x": null,
            "overflow_y": null,
            "padding": null,
            "right": null,
            "top": null,
            "visibility": null,
            "width": null
          }
        },
        "0f3ca51e34da4e4aa4c59613118fa9ef": {
          "model_module": "@jupyter-widgets/base",
          "model_name": "LayoutModel",
          "model_module_version": "1.2.0",
          "state": {
            "_model_module": "@jupyter-widgets/base",
            "_model_module_version": "1.2.0",
            "_model_name": "LayoutModel",
            "_view_count": null,
            "_view_module": "@jupyter-widgets/base",
            "_view_module_version": "1.2.0",
            "_view_name": "LayoutView",
            "align_content": null,
            "align_items": null,
            "align_self": null,
            "border": "1px solid black",
            "bottom": null,
            "display": null,
            "flex": null,
            "flex_flow": null,
            "grid_area": null,
            "grid_auto_columns": null,
            "grid_auto_flow": null,
            "grid_auto_rows": null,
            "grid_column": null,
            "grid_gap": null,
            "grid_row": null,
            "grid_template_areas": null,
            "grid_template_columns": null,
            "grid_template_rows": null,
            "height": null,
            "justify_content": null,
            "justify_items": null,
            "left": null,
            "margin": null,
            "max_height": null,
            "max_width": null,
            "min_height": null,
            "min_width": null,
            "object_fit": null,
            "object_position": null,
            "order": null,
            "overflow": null,
            "overflow_x": null,
            "overflow_y": null,
            "padding": null,
            "right": null,
            "top": null,
            "visibility": null,
            "width": null
          }
        },
        "1ede181ac555462a89d3e74e82ed62ab": {
          "model_module": "@jupyter-widgets/controls",
          "model_name": "HBoxModel",
          "model_module_version": "1.5.0",
          "state": {
            "_dom_classes": [],
            "_model_module": "@jupyter-widgets/controls",
            "_model_module_version": "1.5.0",
            "_model_name": "HBoxModel",
            "_view_count": null,
            "_view_module": "@jupyter-widgets/controls",
            "_view_module_version": "1.5.0",
            "_view_name": "HBoxView",
            "box_style": "",
            "children": [
              "IPY_MODEL_f4ba8b882b2f44ab9bfa2008ad1b0e46",
              "IPY_MODEL_0cb935574b114afab491cfcf0288e3ed",
              "IPY_MODEL_099cde06591c4fc08dcb9da7edfc64e8"
            ],
            "layout": "IPY_MODEL_98bd36319c124665a1009cd9067a8422"
          }
        },
        "f4ba8b882b2f44ab9bfa2008ad1b0e46": {
          "model_module": "@jupyter-widgets/output",
          "model_name": "OutputModel",
          "model_module_version": "1.0.0",
          "state": {
            "_dom_classes": [],
            "_model_module": "@jupyter-widgets/output",
            "_model_module_version": "1.0.0",
            "_model_name": "OutputModel",
            "_view_count": null,
            "_view_module": "@jupyter-widgets/output",
            "_view_module_version": "1.0.0",
            "_view_name": "OutputView",
            "layout": "IPY_MODEL_95343c4c01894fb2ac8df611df020527",
            "msg_id": "",
            "outputs": [
              {
                "output_type": "display_data",
                "data": {
                  "text/plain": "<IPython.core.display.HTML object>",
                  "text/html": "<video width=\"500\" height=\"400\" controls autoplay loop>\n  <source type=\"video/mp4\" src=\"data:video/mp4;base64,AAAAIGZ0eXBNNFYgAAACAE00ViBpc29taXNvMmF2YzEAAAAIZnJlZQABAY5tZGF0AAACrgYF//+q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\nZGF0YQAAAAEAAAAATGF2ZjU4Ljc2LjEwMA==\n\">\n  Your browser does not support the video tag.\n</video>"
                },
                "metadata": {}
              }
            ]
          }
        },
        "0cb935574b114afab491cfcf0288e3ed": {
          "model_module": "@jupyter-widgets/output",
          "model_name": "OutputModel",
          "model_module_version": "1.0.0",
          "state": {
            "_dom_classes": [],
            "_model_module": "@jupyter-widgets/output",
            "_model_module_version": "1.0.0",
            "_model_name": "OutputModel",
            "_view_count": null,
            "_view_module": "@jupyter-widgets/output",
            "_view_module_version": "1.0.0",
            "_view_name": "OutputView",
            "layout": "IPY_MODEL_646f4eb0a10a466aa5c2d69430556bda",
            "msg_id": "",
            "outputs": [
              {
                "output_type": "stream",
                "name": "stderr",
                "text": [
                  "<ipython-input-10-8c5c567d1136>:58: MatplotlibDeprecationWarning: Setting data with a non sequence type is deprecated since 3.7 and will be remove two minor releases later\n",
                  "  line3.set_data(time_list[i], ang_hist[i])\n"
                ]
              },
              {
                "output_type": "display_data",
                "data": {
                  "text/plain": "<IPython.core.display.HTML object>",
                  "text/html": "<video width=\"600\" height=\"400\" controls autoplay loop>\n  <source type=\"video/mp4\" src=\"data:video/mp4;base64,AAAAIGZ0eXBNNFYgAAACAE00ViBpc29taXNvMmF2YzEAAAAIZnJlZQAA0ittZGF0AAACrgYF//+q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\nAABMYXZmNTguNzYuMTAw\n\">\n  Your browser does not support the video tag.\n</video>"
                },
                "metadata": {}
              }
            ]
          }
        },
        "099cde06591c4fc08dcb9da7edfc64e8": {
          "model_module": "@jupyter-widgets/output",
          "model_name": "OutputModel",
          "model_module_version": "1.0.0",
          "state": {
            "_dom_classes": [],
            "_model_module": "@jupyter-widgets/output",
            "_model_module_version": "1.0.0",
            "_model_name": "OutputModel",
            "_view_count": null,
            "_view_module": "@jupyter-widgets/output",
            "_view_module_version": "1.0.0",
            "_view_name": "OutputView",
            "layout": "IPY_MODEL_9ad491bddf72420d96c057a990e1c710",
            "msg_id": "",
            "outputs": [
              {
                "output_type": "display_data",
                "data": {
                  "text/plain": "<Figure size 600x400 with 1 Axes>",
                  "image/png": "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\n"
                },
                "metadata": {}
              }
            ]
          }
        },
        "98bd36319c124665a1009cd9067a8422": {
          "model_module": "@jupyter-widgets/base",
          "model_name": "LayoutModel",
          "model_module_version": "1.2.0",
          "state": {
            "_model_module": "@jupyter-widgets/base",
            "_model_module_version": "1.2.0",
            "_model_name": "LayoutModel",
            "_view_count": null,
            "_view_module": "@jupyter-widgets/base",
            "_view_module_version": "1.2.0",
            "_view_name": "LayoutView",
            "align_content": null,
            "align_items": null,
            "align_self": null,
            "border": null,
            "bottom": null,
            "display": null,
            "flex": null,
            "flex_flow": null,
            "grid_area": null,
            "grid_auto_columns": null,
            "grid_auto_flow": null,
            "grid_auto_rows": null,
            "grid_column": null,
            "grid_gap": null,
            "grid_row": null,
            "grid_template_areas": null,
            "grid_template_columns": null,
            "grid_template_rows": null,
            "height": null,
            "justify_content": null,
            "justify_items": null,
            "left": null,
            "margin": null,
            "max_height": null,
            "max_width": null,
            "min_height": null,
            "min_width": null,
            "object_fit": null,
            "object_position": null,
            "order": null,
            "overflow": null,
            "overflow_x": null,
            "overflow_y": null,
            "padding": null,
            "right": null,
            "top": null,
            "visibility": null,
            "width": null
          }
        },
        "95343c4c01894fb2ac8df611df020527": {
          "model_module": "@jupyter-widgets/base",
          "model_name": "LayoutModel",
          "model_module_version": "1.2.0",
          "state": {
            "_model_module": "@jupyter-widgets/base",
            "_model_module_version": "1.2.0",
            "_model_name": "LayoutModel",
            "_view_count": null,
            "_view_module": "@jupyter-widgets/base",
            "_view_module_version": "1.2.0",
            "_view_name": "LayoutView",
            "align_content": null,
            "align_items": null,
            "align_self": null,
            "border": "1px solid black",
            "bottom": null,
            "display": null,
            "flex": null,
            "flex_flow": null,
            "grid_area": null,
            "grid_auto_columns": null,
            "grid_auto_flow": null,
            "grid_auto_rows": null,
            "grid_column": null,
            "grid_gap": null,
            "grid_row": null,
            "grid_template_areas": null,
            "grid_template_columns": null,
            "grid_template_rows": null,
            "height": null,
            "justify_content": null,
            "justify_items": null,
            "left": null,
            "margin": null,
            "max_height": null,
            "max_width": null,
            "min_height": null,
            "min_width": null,
            "object_fit": null,
            "object_position": null,
            "order": null,
            "overflow": null,
            "overflow_x": null,
            "overflow_y": null,
            "padding": null,
            "right": null,
            "top": null,
            "visibility": null,
            "width": null
          }
        },
        "646f4eb0a10a466aa5c2d69430556bda": {
          "model_module": "@jupyter-widgets/base",
          "model_name": "LayoutModel",
          "model_module_version": "1.2.0",
          "state": {
            "_model_module": "@jupyter-widgets/base",
            "_model_module_version": "1.2.0",
            "_model_name": "LayoutModel",
            "_view_count": null,
            "_view_module": "@jupyter-widgets/base",
            "_view_module_version": "1.2.0",
            "_view_name": "LayoutView",
            "align_content": null,
            "align_items": null,
            "align_self": null,
            "border": "1px solid black",
            "bottom": null,
            "display": null,
            "flex": null,
            "flex_flow": null,
            "grid_area": null,
            "grid_auto_columns": null,
            "grid_auto_flow": null,
            "grid_auto_rows": null,
            "grid_column": null,
            "grid_gap": null,
            "grid_row": null,
            "grid_template_areas": null,
            "grid_template_columns": null,
            "grid_template_rows": null,
            "height": null,
            "justify_content": null,
            "justify_items": null,
            "left": null,
            "margin": null,
            "max_height": null,
            "max_width": null,
            "min_height": null,
            "min_width": null,
            "object_fit": null,
            "object_position": null,
            "order": null,
            "overflow": null,
            "overflow_x": null,
            "overflow_y": null,
            "padding": null,
            "right": null,
            "top": null,
            "visibility": null,
            "width": null
          }
        },
        "9ad491bddf72420d96c057a990e1c710": {
          "model_module": "@jupyter-widgets/base",
          "model_name": "LayoutModel",
          "model_module_version": "1.2.0",
          "state": {
            "_model_module": "@jupyter-widgets/base",
            "_model_module_version": "1.2.0",
            "_model_name": "LayoutModel",
            "_view_count": null,
            "_view_module": "@jupyter-widgets/base",
            "_view_module_version": "1.2.0",
            "_view_name": "LayoutView",
            "align_content": null,
            "align_items": null,
            "align_self": null,
            "border": "1px solid black",
            "bottom": null,
            "display": null,
            "flex": null,
            "flex_flow": null,
            "grid_area": null,
            "grid_auto_columns": null,
            "grid_auto_flow": null,
            "grid_auto_rows": null,
            "grid_column": null,
            "grid_gap": null,
            "grid_row": null,
            "grid_template_areas": null,
            "grid_template_columns": null,
            "grid_template_rows": null,
            "height": null,
            "justify_content": null,
            "justify_items": null,
            "left": null,
            "margin": null,
            "max_height": null,
            "max_width": null,
            "min_height": null,
            "min_width": null,
            "object_fit": null,
            "object_position": null,
            "order": null,
            "overflow": null,
            "overflow_x": null,
            "overflow_y": null,
            "padding": null,
            "right": null,
            "top": null,
            "visibility": null,
            "width": null
          }
        }
      }
    }
  },
  "cells": [
    {
      "cell_type": "markdown",
      "metadata": {
        "id": "view-in-github",
        "colab_type": "text"
      },
      "source": [
        "<a href=\"https://colab.research.google.com/github/guptuv/Inverted-Pendulum/blob/main/Copy_of_PID_controller_explorer.ipynb\" target=\"_parent\"><img src=\"https://colab.research.google.com/assets/colab-badge.svg\" alt=\"Open In Colab\"/></a>"
      ]
    },
    {
      "cell_type": "markdown",
      "source": [
        "# RoboLaunch Workshop Series: **Intro to PID Control**\n",
        "\n",
        "If you didn't see the accompanying presentation with this Colab, you can watch it here: [**How to Control a Robot: Intuition for Feedback Control and PID**](https://youtu.be/dR0nTvZqabQ)\n",
        "\n",
        "In this notebook you will explore the challenges of controlling a simple robot arm. You will write your own functions in Python that will move the arm with *finesse*, **precision**, and ***speed*** beyond your own abilities. We will walk you through the steps of coding and tuning your controller, as well as leave open questions for you to explore in an open-ended simulation."
      ],
      "metadata": {
        "id": "UDZS1MekRVAt"
      }
    },
    {
      "cell_type": "markdown",
      "source": [
        "### First, a Quick Google Colab Intro\n",
        "\n",
        "A notebook is a list of cells. Cells contain either explanatory text or executable code and its output. Click a cell to select it.\n",
        "\n",
        "Below is a **code cell** that prints \"Hello World!\". Click in the cell to select it and execute the contents in one of the following ways:\n",
        "\n",
        "* Click the **Play icon** in the left gutter of the cell;\n",
        "* Type **Cmd/Ctrl+Enter** to run the cell in place;\n",
        "* Type **Shift+Enter** to run the cell and move focus to the next cell (adding one if none exists);"
      ],
      "metadata": {
        "id": "QFl6FISBehnF"
      }
    },
    {
      "cell_type": "code",
      "source": [
        "# This is a comment\n",
        "print('Hello World!')"
      ],
      "metadata": {
        "id": "THIEZraYXlv7",
        "colab": {
          "base_uri": "https://localhost:8080/"
        },
        "outputId": "b141ca0d-3265-4509-f3ec-5f8f9dd9879c"
      },
      "execution_count": null,
      "outputs": [
        {
          "output_type": "stream",
          "name": "stdout",
          "text": [
            "Hello World!\n"
          ]
        }
      ]
    },
    {
      "cell_type": "markdown",
      "source": [
        "Did you see the code cell print \"Hello World!\"? Great!"
      ],
      "metadata": {
        "id": "8qyUq9qWMaGU"
      }
    },
    {
      "cell_type": "markdown",
      "source": [
        "# Single Link Robot Arm\n",
        "\n",
        "For our example system, we will use a single link robot arm. This is essentially a rod with one pivot at the end. At the pivot point there is a motor we can control in order to get the arm to rotate in either direction. This rotational force is called **torque**.\n",
        "\n",
        "The angle of the arm is defined as in the image below (except we will be using radians rather than degrees):\n",
        "\n",
        "<img src=\"https://raw.githubusercontent.com/bradygm/PID-controller-simulator/fc1fc67be86c934b0a07869eaddb00a79ff07488/media/armAngle.png\" alt=\"drawing\" width=\"200\"/>\n",
        "\n",
        "For the guided portion of this lesson, we will imagine that the arm is flat on the table and we can disregard gravity. You can add gravity in later in order for this to act more like a typical pendulum example.\n",
        "\n"
      ],
      "metadata": {
        "id": "_vn6vrSAh4YU"
      }
    },
    {
      "cell_type": "markdown",
      "source": [
        "## Imports, helper functions, and classes\n",
        "\n",
        "We will start by running some code that will set a lot of things up for us. You can run all of these cells by just clicking on the **Play icon** below next to the text that reads \"*7 cells hidden*\". You won't see any outputs from running these cells. You can also feel free to open the cells later to look through the code and modify. You can collapse the cells again by clicking on the arrow next to the title of this text box."
      ],
      "metadata": {
        "id": "1DDlkp5X8qeW"
      }
    },
    {
      "cell_type": "markdown",
      "source": [
        "##### Imports"
      ],
      "metadata": {
        "id": "Woh5Jc7QA5iE"
      }
    },
    {
      "cell_type": "code",
      "source": [
        "import numpy as np\n",
        "import matplotlib.pyplot as plt\n",
        "from matplotlib.animation import FuncAnimation\n",
        "import matplotlib.animation as animation\n",
        "import math\n",
        "from IPython.display import HTML, Javascript\n",
        "from scipy import interpolate\n",
        "from ipywidgets import interact, interactive, fixed, interact_manual, Video\n",
        "import ipywidgets as widgets\n",
        "import time\n",
        "from scipy import signal\n",
        "import urllib.request\n",
        "import requests, warnings\n",
        "from random import randrange"
      ],
      "metadata": {
        "id": "3SI5I_eO8U25"
      },
      "execution_count": null,
      "outputs": []
    },
    {
      "cell_type": "markdown",
      "source": [
        "##### CustomInput Class, interpolation function, and display function"
      ],
      "metadata": {
        "id": "9HJDEOTMA8Au"
      }
    },
    {
      "cell_type": "code",
      "source": [
        "class CustomInput:\n",
        "\n",
        "    def __init__(self, min_val, max_val):\n",
        "        self.a = widgets.FloatSlider(description='Input',min=min_val, max=max_val)\n",
        "        self.values = np.array([[]])\n",
        "\n",
        "        self.start_time = -1.0\n",
        "        self.first_time = True\n",
        "\n",
        "    def f(self, a):\n",
        "        if self.first_time:\n",
        "            self.first_time = False\n",
        "            plt.plot(self.values[:,0], self.values[:,1])\n",
        "            plt.xlabel(\"Seconds\")\n",
        "            plt.ylabel(\"Input\")\n",
        "            return\n",
        "\n",
        "        if self.start_time == -1.0:\n",
        "            self.start_time = time.time()\n",
        "\n",
        "        self.values = np.append(self.values, [[time.time()-self.start_time, a]], axis=0)\n",
        "        plt.plot(self.values[:,0], self.values[:,1], drawstyle=\"steps-pre\")\n",
        "        plt.xlabel(\"Seconds\")\n",
        "        plt.ylabel(\"Input\")\n",
        "\n",
        "    def record(self):\n",
        "        self.values = np.empty((0,2), float)\n",
        "        self.start_time = -1.0\n",
        "        self.first_time = True\n",
        "\n",
        "        out = widgets.interactive_output(self.f, {'a': self.a})\n",
        "\n",
        "        # vid_out = widgets.Output(layout={'border': '1px solid black'})\n",
        "        # with vid_out:\n",
        "        #     display(Video.from_file(\"animation.mp4\", play=True))\n",
        "        # widgets.HBox([widgets.VBox([a]), out, vid_out])\n",
        "        return widgets.HBox([widgets.VBox([self.a]), out])"
      ],
      "metadata": {
        "id": "BW69LUUuV8iC"
      },
      "execution_count": null,
      "outputs": []
    },
    {
      "cell_type": "code",
      "source": [
        "def interp_values(values, end_time, dt):\n",
        "    # values_t = np.array(values)\n",
        "    f = interpolate.interp1d(values[:,0], values[:,1], kind='previous', fill_value=\"extrapolate\")\n",
        "    time_list = np.arange(0, end_time, dt)\n",
        "    return f(time_list)"
      ],
      "metadata": {
        "id": "knNhM0ESfZUK"
      },
      "execution_count": null,
      "outputs": []
    },
    {
      "cell_type": "code",
      "source": [
        "# def submit_response(Name=\"AnonUser\", Error=99999999, P=0, D=0, verbose=False):\n",
        "rand_id = randrange(9999)\n",
        "\n",
        "def submit_response(Name=\"AnonymousUser\", verbose=False):\n",
        "    if Name==\"AnonymousUser\":\n",
        "        Name += str(rand_id)\n",
        "    end_time = 10\n",
        "    period = 10\n",
        "    start_angle = 0.0\n",
        "    dt = 0.05\n",
        "    time_list = np.arange(0, end_time, dt)\n",
        "    list_len = len(time_list)\n",
        "    total_error = 0\n",
        "\n",
        "    # Initialize the RobotArm and save as my_robot_arm\n",
        "    my_robot_arm = RobotArm(start_angle, dt)\n",
        "\n",
        "    goal_ang_interp = signal.square(2 * np.pi * time_list/period)\n",
        "\n",
        "    for i in range(list_len):\n",
        "        total_error += abs(goal_ang_interp[i]-my_robot_arm.get_ang_position())*dt\n",
        "        torque = pd_controller(P, D,\n",
        "                            goal_ang_interp[i],\n",
        "                            my_robot_arm.get_ang_position(),\n",
        "                            my_robot_arm.get_ang_velocity())\n",
        "        my_robot_arm.step_forward(torque)\n",
        "\n",
        "\n",
        "    url = 'https://docs.google.com/forms/d/e/1FAIpQLSdRzW6JKXLfBW9q4KQCL6ijfs_NoAvpuXqCU-ik0H5XROilNA/viewform'\n",
        "    submit_url = url.replace('/viewform', '/formResponse')\n",
        "    form_data = {'draftResponse':[],\n",
        "                'pageHistory':0}\n",
        "    form_data['entry.1119491454'] = total_error\n",
        "    form_data['entry.1429935538'] = Name\n",
        "    form_data['entry.1469728088'] = P\n",
        "    form_data['entry.1372586630'] = D\n",
        "    print(\"User \" + Name + \" total error: \" + str(total_error))\n",
        "    if verbose:\n",
        "        print(form_data)\n",
        "    user_agent = {'Referer':url,\n",
        "                  'User-Agent': \"Mozilla/5.0 (X11; Linux i686) AppleWebKit/537.36 (KHTML, like Gecko) Chrome/28.0.1500.52 Safari/537.36\"}\n",
        "    return requests.post(submit_url, data=form_data, headers=user_agent)"
      ],
      "metadata": {
        "id": "bF1qsT4mNzn8"
      },
      "execution_count": null,
      "outputs": []
    },
    {
      "cell_type": "code",
      "source": [
        "#############################################\n",
        "# Display the results\n",
        "def display_results(goal_ang_interp):\n",
        "    start = time.time()\n",
        "    goal_list_size = len(goal_ang_interp)\n",
        "    # arm sim\n",
        "    fig = plt.figure(figsize=(5, 4))\n",
        "    ax = fig.add_subplot(autoscale_on=False, xlim=(-my_robot_arm.length*1.2, my_robot_arm.length*1.2), ylim=(-my_robot_arm.length*1.2, my_robot_arm.length*1.2))\n",
        "    ax.set_aspect('equal')\n",
        "\n",
        "\n",
        "    if goal_list_size != 0:\n",
        "        line7, = ax.plot([], [], 'o-', lw=6, color='C1', alpha=.2)\n",
        "    line, = ax.plot([], [], 'o-', color='C0', lw=6)\n",
        "    time_template = 'time = %.1fs'\n",
        "    time_text = ax.text(0.05, 0.9, '', transform=ax.transAxes)\n",
        "\n",
        "\n",
        "    def animate_arm(i):\n",
        "        if goal_list_size != 0:\n",
        "            thisx = [0, my_robot_arm.length*np.sin(goal_ang_interp[i])]\n",
        "            thisy = [0, my_robot_arm.length*np.cos(goal_ang_interp[i])]\n",
        "            line7.set_data(thisx, thisy)\n",
        "        thisx = [0, my_robot_arm.length*np.sin(ang_hist[i])]\n",
        "        thisy = [0, my_robot_arm.length*np.cos(ang_hist[i])]\n",
        "        line.set_data(thisx, thisy)\n",
        "        time_text.set_text(time_template % (i*my_robot_arm.timestep))\n",
        "        return line, time_text\n",
        "\n",
        "    ani_arm_vid = animation.FuncAnimation(\n",
        "        fig, animate_arm, len(ang_hist), interval=my_robot_arm.timestep*1000, blit=True)\n",
        "    # gitwriter = animation.ImageMagickWriter()\n",
        "    # writergif = animation.PillowWriter(fps=50)\n",
        "    # ani_arm_vid.save('animation3.gif', writer=writergif)\n",
        "    plt.close()\n",
        "\n",
        "    # arm postion vs goal position\n",
        "    fig = plt.figure(figsize=(6, 4))\n",
        "    ax = fig.add_subplot(autoscale_on=False, xlim=(0, end_time), ylim=(-np.pi, np.pi))\n",
        "    plt.title(\"Arm Angle and Goal Angle\")\n",
        "    plt.xlabel(\"Seconds\")\n",
        "    plt.ylabel(\"Angle (Radians)\")\n",
        "    ax.grid()\n",
        "\n",
        "    line2, = ax.plot([], [], '--', lw=2, color='C0')\n",
        "    line2.set_label('Arm Angle')\n",
        "    line3, = ax.plot(time_list[0], ang_hist[0], 'o', lw=2)\n",
        "    if goal_list_size != 0:\n",
        "        line4, = ax.plot(time_list[0:goal_list_size-1], goal_ang_interp[0:goal_list_size-1], '--', lw=2, color='C1')\n",
        "        line4.set_label('Arm Goal Angle')\n",
        "    time_template2 = 'time = %.1fs'\n",
        "    time_text2 = ax.text(0.05, 0.9, '', transform=ax.transAxes)\n",
        "    # ax.legend()\n",
        "\n",
        "\n",
        "    def animate_arm2(i):\n",
        "        line2.set_data(time_list[0:i], ang_hist[0:i])\n",
        "        line3.set_data(time_list[i], ang_hist[i])\n",
        "        time_text2.set_text(time_template2 % (i*my_robot_arm.timestep))\n",
        "\n",
        "        return line2, time_text2\n",
        "\n",
        "    ani_arm_vid2 = animation.FuncAnimation(\n",
        "        fig, animate_arm2, len(ang_hist), interval=my_robot_arm.timestep*1000, blit=True)\n",
        "    plt.close()\n",
        "\n",
        "    #################################\n",
        "    # display each animation next to each other\n",
        "    window1 = widgets.Output(layout={'border': '1px solid black'})\n",
        "    window2 = widgets.Output(layout={'border': '1px solid black'})\n",
        "    window3 = widgets.Output(layout={'border': '1px solid black'})\n",
        "\n",
        "    # display arm sim\n",
        "    with window1:\n",
        "        if animate_sim:\n",
        "            display(HTML(ani_arm_vid.to_html5_video()))\n",
        "    # display angle info\n",
        "    with window2:\n",
        "        if animate_plots:\n",
        "            display(HTML(ani_arm_vid2.to_html5_video()))\n",
        "        else:\n",
        "            fig = plt.figure(figsize=(6, 4))\n",
        "            ax = fig.add_subplot(autoscale_on=False, xlim=(0, end_time), ylim=(-np.pi, np.pi))\n",
        "            ax.grid()\n",
        "            plt.title(\"Arm Angle and Goal Angle\")\n",
        "            plt.xlabel(\"Seconds\")\n",
        "            plt.ylabel(\"Angle (Radians)\")\n",
        "            if goal_list_size != 0:\n",
        "                line2, = ax.plot(time_list[0:list_len-1], goal_ang_interp[0:list_len-1], '--', lw=2, color='C1')\n",
        "                line2.set_label('Arm Goal Angle')\n",
        "            line3, = ax.plot(time_list[0:list_len-1], ang_hist[0:list_len-1], '--', lw=2, color='C0')\n",
        "            line3.set_label('Arm Angle')\n",
        "            ax.legend()\n",
        "            plt.show()\n",
        "    # display input torque info\n",
        "    with window3:\n",
        "            fig = plt.figure(figsize=(6, 4))\n",
        "            ymin_torque = np.min(torques_interp)\n",
        "            ymax_torque = np.max(torques_interp)\n",
        "            min_sign = np.sign(np.min(torques_interp))\n",
        "            max_sign = np.sign(np.max(torques_interp))\n",
        "            if min_sign == max_sign:\n",
        "                if min_sign == -1:\n",
        "                    ymin_torque *= 1.2\n",
        "                    ymax_torque *= 0.8\n",
        "                elif min_sign == 1:\n",
        "                    ymin_torque *= 0.8\n",
        "                    ymax_torque *= 1.2\n",
        "                elif min_sign == 0:\n",
        "                    ymin_torque *= 1.2\n",
        "                    ymax_torque *= 1.2\n",
        "            else:\n",
        "                ymin_torque *= 1.2\n",
        "                ymax_torque *= 1.2\n",
        "            # ax = fig.add_subplot(autoscale_on=False, xlim=(0, end_time), ylim=(np.min(torques_interp)*1.2,\n",
        "            #                                                                    np.max(torques_interp)*1.2))\n",
        "            ax = fig.add_subplot(autoscale_on=False, xlim=(0, end_time), ylim=(ymin_torque,\n",
        "                                                                               ymax_torque))\n",
        "            ax.grid()\n",
        "            plt.title(\"Torque\")\n",
        "            plt.xlabel(\"Seconds\")\n",
        "            plt.ylabel(\"Input\")\n",
        "            # if goal_list_size != 0:\n",
        "            #     line4, = ax.plot(time_list[0:list_len-1], goal_ang_interp[0:list_len-1], '--', lw=2)\n",
        "            line5, = ax.plot(time_list[0:list_len-1], torques_interp[0:list_len-1], 'g-', lw=2)\n",
        "            line5.set_label('Torque')\n",
        "            ax.legend()\n",
        "            plt.show()\n",
        "\n",
        "\n",
        "    print(str(time.time()-start) + \" sec\")\n",
        "\n",
        "    # FFwriter = animation.FFMpegWriter()\n",
        "    # ani_arm_vid.save('animation.mp4', writer = FFwriter)\n",
        "    # gitwriter = animation.ImageMagickWriter()\n",
        "    # ani_arm_vid.save('animation.gif', writer=gitwriter)\n",
        "    # ani_arm_vid2.save('animation2.mp4', writer = FFwriter)\n",
        "    # widgets.HBox([widgets.VBox([a]), out, vid_out])\n",
        "    return widgets.HBox([window1, window2, window3])"
      ],
      "metadata": {
        "id": "jMJtWA2e7jBN"
      },
      "execution_count": null,
      "outputs": []
    },
    {
      "cell_type": "markdown",
      "source": [
        "## Define the Robot Arm\n",
        "\n",
        "Run the cell below to create your robot arm. You can adjust the parameters of the arm with the toggles on the right, but probably just leave them as they are at first.\n",
        "<!--\n",
        "Any cell you see with these adjustable parameters can show or hide its associated code. You can show the code by clicking \"Show code\" at the bottom of the cell or just by double clicking on the cell itself. In order to hide the code, just double click on parameter box or right click on the cell and select **Form → Show/hide code**.\n",
        "-->"
      ],
      "metadata": {
        "id": "p0SACRUnqyol"
      }
    },
    {
      "cell_type": "code",
      "source": [
        "# @markdown # Robot Arm Parameters { display-mode: \"form\" }\n",
        "# @markdown You can adjust parameters using the sliders and form below.\n",
        "# @markdown Remember you need to **rerun this\n",
        "# @markdown cell after you pick new parameters**.\n",
        "\n",
        "# @markdown ---\n",
        "class RobotArm:\n",
        "\n",
        "    def __init__(self, start_angle, timestep):\n",
        "        # @markdown Mass of the robot arm:\n",
        "        self.mass = 1 #@param{type:\"slider\", min:0.1, max:10, step:0.1}\n",
        "        # @markdown Length of the robot arm:\n",
        "        self.length =  1#@param{type:\"slider\", min:0.1, max:10, step:0.1}\n",
        "        # @markdown Damping from friction\n",
        "        self.damping = 0.1 #@param\n",
        "        # @markdown Toggle gravity on or off\n",
        "        self.gravity_on = True #@param{type:\"boolean\"}\n",
        "\n",
        "        self.state = np.array([start_angle, 0.0])\n",
        "        self.gravity = 9.8\n",
        "        self.timestep = timestep\n",
        "\n",
        "    def state_derivative(self, state, torque):\n",
        "        ang_position = state[0]\n",
        "        ang_velocity = state[1]\n",
        "        if self.gravity_on:\n",
        "            accelaration = (3/self.mass/self.length**2)*(torque - self.damping*ang_velocity + self.mass*self.gravity*self.length/2*np.sin(ang_position))\n",
        "        else:\n",
        "            accelaration = 3*(torque-ang_velocity*self.damping)/(self.mass*self.length**2)\n",
        "\n",
        "        return np.array([ang_velocity, accelaration])\n",
        "\n",
        "    def step_forward(self, torque):\n",
        "        # Using Runge-Kutta algorithm\n",
        "        k1 = self.state_derivative(self.state, torque)\n",
        "        k2 = self.state_derivative(self.state + self.timestep/2*k1, torque)\n",
        "        k3 = self.state_derivative(self.state + self.timestep/2*k2, torque)\n",
        "        k4 = self.state_derivative(self.state + self.timestep*k3, torque)\n",
        "        self.state = self.state + self.timestep/6 * (k1 + 2*k2 + 2*k3 + k4)\n",
        "\n",
        "    def angle_wrap(self, ang):\n",
        "        return (ang + np.pi) % (2 * np.pi) - np.pi\n",
        "\n",
        "    def get_ang_position(self):\n",
        "        return self.state[0]\n",
        "\n",
        "    def get_ang_velocity(self):\n",
        "        return self.state[1]"
      ],
      "metadata": {
        "id": "MRqZwSiC4fmP"
      },
      "execution_count": null,
      "outputs": []
    },
    {
      "cell_type": "markdown",
      "source": [
        "## Let's move the arm around!\n",
        "\n",
        "Now you get to move the arm! You will do this by varying the torque at the pivot of the arm, just like as if there was a motor there.\n",
        "\n",
        "\n",
        "First we will create a sequence of torques. Run the cell below and you should see a slider. Drag the slider around and it will save your input in realtime and display it to the graph on the right. Positive torque will add force in the clockwise direction and negative torque in the counter-clockwise direction.\n",
        "\n",
        "We will be using the **first 10 seconds** of input in the following steps.\n"
      ],
      "metadata": {
        "id": "_595CnaIV9hv"
      }
    },
    {
      "cell_type": "code",
      "source": [
        "# Creates the CustomInput object for our input torque sequence\n",
        "custom_torques = CustomInput(-1,1)\n",
        "# Starts recording a new torque sequence\n",
        "custom_torques.record()"
      ],
      "metadata": {
        "id": "uqxBxRgk9E3R",
        "colab": {
          "base_uri": "https://localhost:8080/",
          "height": 481,
          "referenced_widgets": [
            "37a4bb76f384473abb3d022fb528386b",
            "a56bb2dfb658459a8ac03b4334f90d81",
            "a36424ed732342efb4326ad9932e7489",
            "813baedf7063423da27c90e4fedad4be",
            "6563e5a6c8864f088749319b4616763f",
            "653e8c08d4cf4c5f8f6f65a9fb58a8f9",
            "c5c2c86aa8774dc089c3acaf08fa25be",
            "4e5926b0b0504991a08044fca4604813",
            "138518ebf28c4cff99c21d8b8d6b7944"
          ]
        },
        "outputId": "3fe8c7a2-c95e-46f6-dd0f-32ff54ca9cc7"
      },
      "execution_count": null,
      "outputs": [
        {
          "output_type": "display_data",
          "data": {
            "text/plain": [
              "HBox(children=(VBox(children=(FloatSlider(value=0.0, description='Input', max=1.0, min=-1.0),)), Output()))"
            ],
            "application/vnd.jupyter.widget-view+json": {
              "version_major": 2,
              "version_minor": 0,
              "model_id": "37a4bb76f384473abb3d022fb528386b"
            }
          },
          "metadata": {}
        },
        {
          "output_type": "display_data",
          "data": {
            "text/plain": [
              "<Figure size 640x480 with 1 Axes>"
            ],
            "image/png": "[encoded data removed]"
          },
          "metadata": {}
        }
      ]
    },
    {
      "cell_type": "code",
      "source": [
        "import numpy as np"
      ],
      "metadata": {
        "id": "NGavKXdYqm_B"
      },
      "execution_count": null,
      "outputs": []
    },
    {
      "cell_type": "markdown",
      "source": [
        "### Simulate the result\n",
        "\n",
        "Now we will simulate the effects of the input you recorded.\n",
        "\n",
        "Keep the default parameters for now, but feel free to modify later."
      ],
      "metadata": {
        "id": "TvVb2-xovZ2U"
      }
    },
    {
      "cell_type": "code",
      "source": [
        "#@markdown How long you want the simulation to run for\n",
        "end_time = 10 #@param{type:\"slider\", min:5.0, max:30, step:1}\n",
        "# The starting angle of the arm\n",
        "start_angle = 0.0\n",
        "dt = 0.05 # the length of the time step\n",
        "#@markdown Toggle animation of figures on or off. Turning all off will result in quick results.\n",
        "animate_plots = True #@param {type:\"boolean\"}\n",
        "animate_sim = True #@param{type:\"boolean\"}\n",
        "time_list = np.arange(0, end_time, dt)\n",
        "list_len = len(time_list)\n",
        "ang_hist = []\n",
        "goal_ang_interp = []\n",
        "\n",
        "# Initialize the RobotArm and save as my_robot_arm\n",
        "my_robot_arm = RobotArm(start_angle, dt)\n",
        "\n",
        "# Takes our custom torque input and interpolates it for all time steps\n",
        "torques_interp = interp_values(custom_torques.values, end_time, dt)\n",
        "\n",
        "# Loop over the time steps\n",
        "for i in range(list_len):\n",
        "    my_robot_arm.step_forward(torques_interp[i])\n",
        "    ang_hist.append(my_robot_arm.get_ang_position())\n",
        "\n",
        "display_results(goal_ang_interp)"
      ],
      "metadata": {
        "id": "-eKhPEgCXMXg",
        "colab": {
          "base_uri": "https://localhost:8080/",
          "height": 356
        },
        "outputId": "57af526c-f9b1-4df6-e8d9-5a982619b521"
      },
      "execution_count": null,
      "outputs": [
        {
          "output_type": "error",
          "ename": "ValueError",
          "evalue": "cannot reshape array of size 0 into shape (0,newaxis)",
          "traceback": [
            "\u001b[0;31m---------------------------------------------------------------------------\u001b[0m",
            "\u001b[0;31mValueError\u001b[0m                                Traceback (most recent call last)",
            "\u001b[0;32m<ipython-input-14-6fe48fe808e7>\u001b[0m in \u001b[0;36m<cell line: 18>\u001b[0;34m()\u001b[0m\n\u001b[1;32m     16\u001b[0m \u001b[0;34m\u001b[0m\u001b[0m\n\u001b[1;32m     17\u001b[0m \u001b[0;31m# Takes our custom torque input and interpolates it for all time steps\u001b[0m\u001b[0;34m\u001b[0m\u001b[0;34m\u001b[0m\u001b[0m\n\u001b[0;32m---> 18\u001b[0;31m \u001b[0mtorques_interp\u001b[0m \u001b[0;34m=\u001b[0m \u001b[0minterp_values\u001b[0m\u001b[0;34m(\u001b[0m\u001b[0mcustom_torques\u001b[0m\u001b[0;34m.\u001b[0m\u001b[0mvalues\u001b[0m\u001b[0;34m,\u001b[0m \u001b[0mend_time\u001b[0m\u001b[0;34m,\u001b[0m \u001b[0mdt\u001b[0m\u001b[0;34m)\u001b[0m\u001b[0;34m\u001b[0m\u001b[0;34m\u001b[0m\u001b[0m\n\u001b[0m\u001b[1;32m     19\u001b[0m \u001b[0;34m\u001b[0m\u001b[0m\n\u001b[1;32m     20\u001b[0m \u001b[0;31m# Loop over the time steps\u001b[0m\u001b[0;34m\u001b[0m\u001b[0;34m\u001b[0m\u001b[0m\n",
            "\u001b[0;32m<ipython-input-8-bc96f874a470>\u001b[0m in \u001b[0;36minterp_values\u001b[0;34m(values, end_time, dt)\u001b[0m\n\u001b[1;32m      1\u001b[0m \u001b[0;32mdef\u001b[0m \u001b[0minterp_values\u001b[0m\u001b[0;34m(\u001b[0m\u001b[0mvalues\u001b[0m\u001b[0;34m,\u001b[0m \u001b[0mend_time\u001b[0m\u001b[0;34m,\u001b[0m \u001b[0mdt\u001b[0m\u001b[0;34m)\u001b[0m\u001b[0;34m:\u001b[0m\u001b[0;34m\u001b[0m\u001b[0;34m\u001b[0m\u001b[0m\n\u001b[1;32m      2\u001b[0m     \u001b[0;31m# values_t = np.array(values)\u001b[0m\u001b[0;34m\u001b[0m\u001b[0;34m\u001b[0m\u001b[0m\n\u001b[0;32m----> 3\u001b[0;31m     \u001b[0mf\u001b[0m \u001b[0;34m=\u001b[0m \u001b[0minterpolate\u001b[0m\u001b[0;34m.\u001b[0m\u001b[0minterp1d\u001b[0m\u001b[0;34m(\u001b[0m\u001b[0mvalues\u001b[0m\u001b[0;34m[\u001b[0m\u001b[0;34m:\u001b[0m\u001b[0;34m,\u001b[0m\u001b[0;36m0\u001b[0m\u001b[0;34m]\u001b[0m\u001b[0;34m,\u001b[0m \u001b[0mvalues\u001b[0m\u001b[0;34m[\u001b[0m\u001b[0;34m:\u001b[0m\u001b[0;34m,\u001b[0m\u001b[0;36m1\u001b[0m\u001b[0;34m]\u001b[0m\u001b[0;34m,\u001b[0m \u001b[0mkind\u001b[0m\u001b[0;34m=\u001b[0m\u001b[0;34m'previous'\u001b[0m\u001b[0;34m,\u001b[0m \u001b[0mfill_value\u001b[0m\u001b[0;34m=\u001b[0m\u001b[0;34m\"extrapolate\"\u001b[0m\u001b[0;34m)\u001b[0m\u001b[0;34m\u001b[0m\u001b[0;34m\u001b[0m\u001b[0m\n\u001b[0m\u001b[1;32m      4\u001b[0m     \u001b[0mtime_list\u001b[0m \u001b[0;34m=\u001b[0m \u001b[0mnp\u001b[0m\u001b[0;34m.\u001b[0m\u001b[0marange\u001b[0m\u001b[0;34m(\u001b[0m\u001b[0;36m0\u001b[0m\u001b[0;34m,\u001b[0m \u001b[0mend_time\u001b[0m\u001b[0;34m,\u001b[0m \u001b[0mdt\u001b[0m\u001b[0;34m)\u001b[0m\u001b[0;34m\u001b[0m\u001b[0;34m\u001b[0m\u001b[0m\n\u001b[1;32m      5\u001b[0m     \u001b[0;32mreturn\u001b[0m \u001b[0mf\u001b[0m\u001b[0;34m(\u001b[0m\u001b[0mtime_list\u001b[0m\u001b[0;34m)\u001b[0m\u001b[0;34m\u001b[0m\u001b[0;34m\u001b[0m\u001b[0m\n",
            "\u001b[0;32m/usr/local/lib/python3.10/dist-packages/scipy/interpolate/_interpolate.py\u001b[0m in \u001b[0;36m__init__\u001b[0;34m(self, x, y, kind, axis, copy, bounds_error, fill_value, assume_sorted)\u001b[0m\n\u001b[1;32m    530\u001b[0m         \u001b[0;31m# Interpolation goes internally along the first axis\u001b[0m\u001b[0;34m\u001b[0m\u001b[0;34m\u001b[0m\u001b[0m\n\u001b[1;32m    531\u001b[0m         \u001b[0mself\u001b[0m\u001b[0;34m.\u001b[0m\u001b[0my\u001b[0m \u001b[0;34m=\u001b[0m \u001b[0my\u001b[0m\u001b[0;34m\u001b[0m\u001b[0;34m\u001b[0m\u001b[0m\n\u001b[0;32m--> 532\u001b[0;31m         \u001b[0mself\u001b[0m\u001b[0;34m.\u001b[0m\u001b[0m_y\u001b[0m \u001b[0;34m=\u001b[0m \u001b[0mself\u001b[0m\u001b[0;34m.\u001b[0m\u001b[0m_reshape_yi\u001b[0m\u001b[0;34m(\u001b[0m\u001b[0mself\u001b[0m\u001b[0;34m.\u001b[0m\u001b[0my\u001b[0m\u001b[0;34m)\u001b[0m\u001b[0;34m\u001b[0m\u001b[0;34m\u001b[0m\u001b[0m\n\u001b[0m\u001b[1;32m    533\u001b[0m         \u001b[0mself\u001b[0m\u001b[0;34m.\u001b[0m\u001b[0mx\u001b[0m \u001b[0;34m=\u001b[0m \u001b[0mx\u001b[0m\u001b[0;34m\u001b[0m\u001b[0;34m\u001b[0m\u001b[0m\n\u001b[1;32m    534\u001b[0m         \u001b[0;32mdel\u001b[0m \u001b[0my\u001b[0m\u001b[0;34m,\u001b[0m \u001b[0mx\u001b[0m  \u001b[0;31m# clean up namespace to prevent misuse; use attributes\u001b[0m\u001b[0;34m\u001b[0m\u001b[0;34m\u001b[0m\u001b[0m\n",
            "\u001b[0;32m/usr/local/lib/python3.10/dist-packages/scipy/interpolate/_polyint.py\u001b[0m in \u001b[0;36m_reshape_yi\u001b[0;34m(self, yi, check)\u001b[0m\n\u001b[1;32m    110\u001b[0m                                            self._y_extra_shape[:-self._y_axis])\n\u001b[1;32m    111\u001b[0m             \u001b[0;32mraise\u001b[0m \u001b[0mValueError\u001b[0m\u001b[0;34m(\u001b[0m\u001b[0;34m\"Data must be of shape %s\"\u001b[0m \u001b[0;34m%\u001b[0m \u001b[0mok_shape\u001b[0m\u001b[0;34m)\u001b[0m\u001b[0;34m\u001b[0m\u001b[0;34m\u001b[0m\u001b[0m\n\u001b[0;32m--> 112\u001b[0;31m         \u001b[0;32mreturn\u001b[0m \u001b[0myi\u001b[0m\u001b[0;34m.\u001b[0m\u001b[0mreshape\u001b[0m\u001b[0;34m(\u001b[0m\u001b[0;34m(\u001b[0m\u001b[0myi\u001b[0m\u001b[0;34m.\u001b[0m\u001b[0mshape\u001b[0m\u001b[0;34m[\u001b[0m\u001b[0;36m0\u001b[0m\u001b[0;34m]\u001b[0m\u001b[0;34m,\u001b[0m \u001b[0;34m-\u001b[0m\u001b[0;36m1\u001b[0m\u001b[0;34m)\u001b[0m\u001b[0;34m)\u001b[0m\u001b[0;34m\u001b[0m\u001b[0;34m\u001b[0m\u001b[0m\n\u001b[0m\u001b[1;32m    113\u001b[0m \u001b[0;34m\u001b[0m\u001b[0m\n\u001b[1;32m    114\u001b[0m     \u001b[0;32mdef\u001b[0m \u001b[0m_set_yi\u001b[0m\u001b[0;34m(\u001b[0m\u001b[0mself\u001b[0m\u001b[0;34m,\u001b[0m \u001b[0myi\u001b[0m\u001b[0;34m,\u001b[0m \u001b[0mxi\u001b[0m\u001b[0;34m=\u001b[0m\u001b[0;32mNone\u001b[0m\u001b[0;34m,\u001b[0m \u001b[0maxis\u001b[0m\u001b[0;34m=\u001b[0m\u001b[0;32mNone\u001b[0m\u001b[0;34m)\u001b[0m\u001b[0;34m:\u001b[0m\u001b[0;34m\u001b[0m\u001b[0;34m\u001b[0m\u001b[0m\n",
            "\u001b[0;31mValueError\u001b[0m: cannot reshape array of size 0 into shape (0,newaxis)"
          ]
        }
      ]
    },
    {
      "cell_type": "markdown",
      "source": [
        "You can go back and try different torque sequences. Run the torque input cell again to put in new sequence and then run the simulate again to see the results.\n",
        "\n",
        "### Follow a goal path\n",
        "\n",
        "Now we will see if we can get the arm to do something a bit challenging. See if you can get the arm to follow as closely as follows in the example below:\n",
        "\n",
        "<img src=\"https://raw.githubusercontent.com/bradygm/PID-controller-simulator/main/media/animation.gif\" alt=\"drawing\" width=\"300\"/>\n",
        "<img src=\"https://raw.githubusercontent.com/bradygm/PID-controller-simulator/main/media/squareWave2.png\" alt=\"drawing\" width=\"360\"/>\n",
        "\n",
        "Obviously the arm can't teleport from one side to the other, but do your best to get your arm to the goal positions as quickly as possible. Go to the right, then stop the arm. Go to the left, and stop the arm.\n",
        "\n",
        "This is pretty tricky, but give it a couple attempts with the code cells below.\n",
        "\n",
        "In order to more quickly see your results from the simulation, you can choose to **temporarily turn off the animations**. You can always turn it back on whenever to see your final results. Or leave it on all the time if you have great patience 😉."
      ],
      "metadata": {
        "id": "Vb0BdNRrvOM8"
      }
    },
    {
      "cell_type": "code",
      "source": [
        "# Creates the CustomInput object for our input torque sequence\n",
        "custom_torques_square = CustomInput(-1,1)\n",
        "# Starts recording a new torque sequence\n",
        "custom_torques_square.record()"
      ],
      "metadata": {
        "id": "otV2XkDq1mY7"
      },
      "execution_count": null,
      "outputs": []
    },
    {
      "cell_type": "code",
      "source": [
        "#@markdown How long you want the simulation to run for\n",
        "end_time = 11 #@param{type:\"slider\", min:5.0, max:30, step:1}\n",
        "period = 10.0\n",
        "# The starting angle of the arm\n",
        "start_angle = 0.0\n",
        "#@markdown Toggle animation of figures on or off. Turning all off will result in quick results.\n",
        "animate_plots = True #@param {type:\"boolean\"}\n",
        "animate_sim = True #@param{type:\"boolean\"}\n",
        "\n",
        "dt = 0.05 # the length of the time step\n",
        "time_list = np.arange(0, end_time, dt)\n",
        "list_len = len(time_list)\n",
        "\n",
        "# Initialize the RobotArm and save as my_robot_arm\n",
        "my_robot_arm = RobotArm(start_angle, dt)\n",
        "\n",
        "# Takes our custom torque input and interpolates it for all time steps\n",
        "torques_interp = interp_values(custom_torques_square.values, end_time, dt)\n",
        "ang_hist = []\n",
        "goal_ang_interp = signal.square(2 * np.pi * time_list/period)\n",
        "\n",
        "# Loop over the time steps\n",
        "for i in range(list_len):\n",
        "    my_robot_arm.step_forward(torques_interp[i])\n",
        "    ang_hist.append(my_robot_arm.get_ang_position())\n",
        "\n",
        "display_results(goal_ang_interp)"
      ],
      "metadata": {
        "id": "t0n7oqP21n_y"
      },
      "execution_count": null,
      "outputs": []
    },
    {
      "cell_type": "markdown",
      "source": [
        "## PID Controller Magic\n",
        "\n",
        "That was hard, right? Now that we have tried a couple times to get the arm to follow the goal path, we are now going to write a controller to have it do the hard work for us!\n",
        "\n"
      ],
      "metadata": {
        "id": "y3Mtz5YvvukU"
      }
    },
    {
      "cell_type": "markdown",
      "source": [
        "### P Controller\n",
        "\n",
        "First, let's start with creating a proportional controller (the \"P\" part of PID). We will create a function called `p_controller` that takes in the variables `P`, `goal_position`, and `current_position`. What we want to do use those three variablesis to determine what the control input (torque) should be.\n",
        "\n",
        "The first step is to find the difference between where we want the arm to be, the goal position, and where it is now, the current position. This is called the error, and we calculate it in function for you as `error = goal_position-current_position`.\n",
        "\n",
        "Using the error, we can then calculate what our torque `u` should be. We do this by multiplying the error by the value `P` to determine how strongly the arm should react to a given error. We will be playing around with the value of `P` to create the arm movement we are looking for.\n",
        "\n",
        "**Fill in the rest of the equation** of `u=` where it will set the value of the `u` to whatever you put on the right side of the equation. This `u` is what the torque will be and it is returned as the output of this function. If you're new to coding, you use the \"*\" symbol for multiplying numbers."
      ],
      "metadata": {
        "id": "Es-NBCIA5v54"
      }
    },
    {
      "cell_type": "code",
      "source": [
        "def p_controller(P, goal_position, current_position):\n",
        "    # We first calculate the error\n",
        "    error = goal_position-current_position\n",
        "    # ADD YOUR CODE HERE\n",
        "    u =error*P\n",
        "    return u"
      ],
      "metadata": {
        "id": "oW1KUBeC6ia3"
      },
      "execution_count": null,
      "outputs": []
    },
    {
      "cell_type": "markdown",
      "source": [
        "Run the code block with your new `p_controller` function, and then let's test it out on the simulation!"
      ],
      "metadata": {
        "id": "aDmKFu88Uc8I"
      }
    },
    {
      "cell_type": "markdown",
      "source": [
        "\n",
        "\n",
        "If you need help or want to double check your answer, double click on this cell to see an example solution.\n",
        "\n",
        "<!--\n",
        "\n",
        "u = P*error\n",
        "\n",
        "-->"
      ],
      "metadata": {
        "id": "TIOPFhQA9BOq"
      }
    },
    {
      "cell_type": "markdown",
      "source": [
        "The code block below is very similar to the one before, but it now has two additional parameters. It has the `P` variable which we pass into our new function `p_controller` when calculating the torque here `torque = p_controller(P, goal_ang_interp[i], my_robot_arm.get_ang_position())` at every time step.\n",
        "\n",
        "Give it a try with the default values first to see the results. Note that we have turned off the animations by default for quicker results."
      ],
      "metadata": {
        "id": "RdCGYhHk-wcp"
      }
    },
    {
      "cell_type": "code",
      "source": [
        "#@markdown How long you want the simulation to run for\n",
        "end_time = 30 # @param {type:\"slider\", min:5, max:40, step:1}\n",
        "#@markdown The length of each cycle of our square wave goal position\n",
        "period = 60 #@param{type:\"slider\", min:1, max: 60.0, step:1}\n",
        "# The starting angle of the arm\n",
        "start_angle = 0.0\n",
        "#@markdown Toggle animation of figures on or off. Turning all off will result in quick results.\n",
        "animate_plots = True #@param{type:\"boolean\"}\n",
        "animate_sim = True #@param{type:\"boolean\"}\n",
        "\n",
        "dt = 0.05 # the length of the time step\n",
        "time_list = np.arange(0, end_time, dt)\n",
        "list_len = len(time_list)\n",
        "\n",
        "#@markdown Proportional Gain\n",
        "P = 0.05 #@param{type:\"slider\", min:0.01, max:5.0, step:0.01}\n",
        "\n",
        "# Initialize the RobotArm and save as my_robot_arm\n",
        "my_robot_arm = RobotArm(start_angle, dt)\n",
        "\n",
        "torques_interp = []\n",
        "ang_hist = []\n",
        "goal_ang_interp = signal.square(2 * np.pi * time_list/period)\n",
        "\n",
        "for i in range(list_len):\n",
        "    torque = p_controller(P, goal_ang_interp[i], my_robot_arm.get_ang_position())\n",
        "    torques_interp.append(torque) # save torque so we can draw it\n",
        "    my_robot_arm.step_forward(torque)\n",
        "    ang_hist.append(my_robot_arm.get_ang_position()) # save angle so we can draw it\n",
        "\n",
        "display_results(goal_ang_interp)"
      ],
      "metadata": {
        "id": "kLPxmjKW9sEr"
      },
      "execution_count": null,
      "outputs": []
    },
    {
      "cell_type": "markdown",
      "source": [
        "How did it do? Try a couple different values for P by moving the slider in the code block above and running the cell again to see how close you can get the arm to follow the goal.\n",
        "\n",
        "The other parameter we added to the code block above is called `period` which allows you to adjust the length of each cycle of the square wave which we use as the goal angle of the arm. Go ahead and max out the end time and the period length in order to see longer time behaviors of the system.\n",
        "\n",
        "One thing you can try is maxing out the end time, period, and the P value. What happens? You may see that the oscillations actually start to get bigger and bigger as time goes on. This is an **unstable** system.\n",
        "\n",
        "Now try with a lower `P` value, something like 0.05. You will see that there are less oscillations, but it gets to the goal angle much too slow, especially to follow the original square wave with a period of 10."
      ],
      "metadata": {
        "id": "rH6tesoJBo3x"
      }
    },
    {
      "cell_type": "markdown",
      "source": [
        "### PD Controller\n",
        "\n",
        "How can we improve upon the proportional controller? We want to find the balance of moving quickly to the goal angle, but not move too quickly which leads to overshooting.\n",
        "\n",
        "**PD controller to the rescue!**\n",
        "\n",
        "We can add in another part to our controller the keeps our arm from moving too quickly, or having too large of a velocity. We do this by multiplying our velocity by a scaling value `D` and subtracting it from our control input `u`.\n",
        "\n",
        "We are now ready to create our new function `pd_controller` which is similar to `p_controller` which we created before. We've added two new inputs to the function: `D` and `current_velocity`. We again have the equation `u=` where we will again have our error multiplied by `P`. But we will also subtract `D` multiplied by `current_velocity`. After writing in what we need for the function, run the cell so we can use it in our simulation."
      ],
      "metadata": {
        "id": "XquJcyiIJyki"
      }
    },
    {
      "cell_type": "code",
      "source": [
        "def pd_controller(P, D, goal_position, current_position, current_velocity):\n",
        "    # We first calculate the error\n",
        "    error = goal_position-current_position\n",
        "    # ADD YOUR CODE HERE\n",
        "    u = P*error - D*current_velocity\n",
        "    return u"
      ],
      "metadata": {
        "id": "wd0_7uK2BoiS"
      },
      "execution_count": null,
      "outputs": []
    },
    {
      "cell_type": "markdown",
      "source": [
        "Again, if you need help or want to double check your answer, double click on this cell to see an **example solution**.\n",
        "\n",
        "<!--\n",
        "\n",
        "u = P*error - D*current_velocity\n",
        "\n",
        "-->"
      ],
      "metadata": {
        "id": "6pFvwoltLjYf"
      }
    },
    {
      "cell_type": "markdown",
      "source": [
        "The code block below will again look similar as to before but with a new parameter `D` that we can adjust and is passed into our function `pd_controller`. Give it a try with adjusting the `P` and `D` values and running the code block to see the results.  "
      ],
      "metadata": {
        "id": "ueYzklPQOtZ5"
      }
    },
    {
      "cell_type": "code",
      "source": [
        "#@markdown Name for submitted results\n",
        "username = \"AnonymousUser\" #@param {type:\"string\"}\n",
        "#@markdown How long you want the simulation to run for\n",
        "end_time = 30 #@param{type:\"slider\", min:5.0, max:30, step:1}\n",
        "#@markdown The length of each cycle of our square wave goal position\n",
        "period = 60 #@param{type:\"slider\", min:1, max: 60.0, step:1}\n",
        "# The starting angle of the arm\n",
        "start_angle = 0.0\n",
        "#@markdown Toggle animation of figures on or off. Turning all off will result in quick results.\n",
        "animate_plots = True #@param{type:\"boolean\"}\n",
        "animate_sim = False #@param{type:\"boolean\"}\n",
        "\n",
        "\n",
        "dt = 0.05 # the length of the time step\n",
        "time_list = np.arange(0, end_time, dt)\n",
        "list_len = len(time_list)\n",
        "\n",
        "#@markdown PD Parameters\n",
        "P = 5 #@param{type:\"slider\", min:0.01, max:5.0, step:0.01}\n",
        "D = 3.92 #@param{type:\"slider\", min:0.0, max:5.0, step:0.01}\n",
        "\n",
        "# Initialize the RobotArm and save as my_robot_arm\n",
        "my_robot_arm = RobotArm(start_angle, dt)\n",
        "\n",
        "torques_interp = []\n",
        "ang_hist = []\n",
        "goal_ang_interp = signal.square(2 * np.pi * time_list/period)\n",
        "\n",
        "for i in range(list_len):\n",
        "    torque = pd_controller(P, D, goal_ang_interp[i], my_robot_arm.get_ang_position(), my_robot_arm.get_ang_velocity())\n",
        "    torques_interp.append(torque) # save torque so we can draw it\n",
        "    my_robot_arm.step_forward(torque)\n",
        "    ang_hist.append(my_robot_arm.get_ang_position()) # save angle so we can draw it\n",
        "\n",
        "submit_response(Name=username)\n",
        "display_results(goal_ang_interp)\n"
      ],
      "metadata": {
        "id": "0fOYUkQELGcI",
        "colab": {
          "base_uri": "https://localhost:8080/",
          "height": 638,
          "referenced_widgets": [
            "cff5d695f97a46ce8a9d3a92304be52e",
            "2b995ff7df3b4e31b47500641cd59558",
            "87777dc1e72941f9a3388777579ed204",
            "3abdb5d0f03b45e08d51e3d86029c062",
            "f6bfb07f9bc0483da07c4b2588017493",
            "3a396b8cb2724e5ba12d50f1c136ba1d",
            "75bfa9c70f30401bb8c7b92887bd1bc1",
            "0f3ca51e34da4e4aa4c59613118fa9ef"
          ]
        },
        "outputId": "2d13b490-1039-49ce-e109-b700ff6145bd"
      },
      "execution_count": null,
      "outputs": [
        {
          "output_type": "stream",
          "name": "stdout",
          "text": [
            "User AnonymousUser6395 total error: 8.559398029968317\n"
          ]
        },
        {
          "output_type": "stream",
          "name": "stderr",
          "text": [
            "<ipython-input-10-8c5c567d1136>:58: MatplotlibDeprecationWarning: Setting data with a non sequence type is deprecated since 3.7 and will be remove two minor releases later\n",
            "  line3.set_data(time_list[i], ang_hist[i])\n"
          ]
        },
        {
          "output_type": "stream",
          "name": "stdout",
          "text": [
            "7.016639709472656 sec\n"
          ]
        },
        {
          "output_type": "display_data",
          "data": {
            "text/plain": [
              "HBox(children=(Output(layout=Layout(border='1px solid black')), Output(layout=Layout(border='1px solid black')…"
            ],
            "application/vnd.jupyter.widget-view+json": {
              "version_major": 2,
              "version_minor": 0,
              "model_id": "cff5d695f97a46ce8a9d3a92304be52e"
            }
          },
          "metadata": {}
        }
      ]
    },
    {
      "cell_type": "markdown",
      "source": [
        "You will probably find that you can now crank up `P` really high if you also use `D` to offset it.\n",
        "\n",
        "What happens if you crank `D` all the way up? If it is too high, you can see how the arm takes forever to get to the goal.\n",
        "\n",
        "Now try adjusting the `P` and `D` values to get the best results as you can. You may have noticed that on top of the graphs of your results you will see an output saying something like \"User .... Total Error ...\". This is summing up the error over the ten second period and submitting your results so you can see how it compares against others. How low can the error get? Is the smallest error actually what we want? Remember that you can turn back on the animation to see how your results look.\n",
        "\n",
        "You can view submitted results [here](https://docs.google.com/spreadsheets/d/1pbKPOv4ZjdaPNsYJWK1wwlBWOSiPoD-gEATfgp6heQs/edit?usp=sharing). *If you want to edit your name for the submission, you can modify the username in the parameters of the code block above*.\n",
        "\n",
        "You should be able to get results with a total error less than 1.4 and smoothly gets to the goal angle in around one second."
      ],
      "metadata": {
        "id": "wzHWtWpiLLcq"
      }
    },
    {
      "cell_type": "markdown",
      "source": [
        "### Test your final controller\n",
        "\n",
        "So far we've been using our controller for a simple square wave for the goal angle sequence. But now that we have a controller that can move the arm to any angle we specify, we can input our own custom sequence for it to follow. Run the code block below and you will see a slider just like when we input a torque sequence in the beginning. Now rather than moving the slider to input the torque, we are selecting the goal angle of the arm that your controller will try to follow.\n",
        "\n",
        "Run the block and move the slider around for **10 seconds** or so to give our arm a good challenge.\n",
        "\n"
      ],
      "metadata": {
        "id": "4wrJKudiP11I"
      }
    },
    {
      "cell_type": "code",
      "source": [
        "# Creates the CustomInput object for our input goal angle sequence\n",
        "custom_goal_angle = CustomInput(-3.14,3.14)\n",
        "# Starts recording a new goal angle sequence\n",
        "custom_goal_angle.record()"
      ],
      "metadata": {
        "id": "qkCnKaY0B9SQ"
      },
      "execution_count": null,
      "outputs": []
    },
    {
      "cell_type": "markdown",
      "source": [
        "Now let's see how your controller does!\n",
        "\n",
        "Copy over your `P` and `D` values that gave you the best, smooth results and run the code block to see how it performs on your custom goal sequence. This is a fun one to turn `animate_sim` back on."
      ],
      "metadata": {
        "id": "5dG1voSPQM8W"
      }
    },
    {
      "cell_type": "code",
      "source": [
        "#@markdown How long you want the simulation to run for\n",
        "end_time = 10 #@param{type:\"slider\", min:5.0, max:30, step:1}\n",
        "# The starting angle of the arm\n",
        "start_angle = 0.0\n",
        "#@markdown Toggle animation of figures on or off. Turning all off will result in quick results.\n",
        "animate_plots = False #@param{type:\"boolean\"}\n",
        "animate_sim = True #@param{type:\"boolean\"}\n",
        "\n",
        "dt = 0.05 # the length of the time step\n",
        "time_list = np.arange(0, end_time, dt)\n",
        "list_len = len(time_list)\n",
        "\n",
        "#@markdown PD Parameters\n",
        "P = 0.04 #@param{type:\"slider\", min:0.01, max:5.0, step:0.01}\n",
        "D = 0 #@param{type:\"slider\", min:0.0, max:5.0, step:0.01}\n",
        "\n",
        "# Initialize the RobotArm and save as my_robot_arm\n",
        "my_robot_arm = RobotArm(start_angle, dt)\n",
        "\n",
        "torques_interp = []\n",
        "ang_hist = []\n",
        "goal_ang_interp = interp_values(custom_goal_angle.values, end_time, dt)\n",
        "\n",
        "for i in range(list_len):\n",
        "    torque = pd_controller(P, D,\n",
        "                           goal_ang_interp[i],\n",
        "                           my_robot_arm.get_ang_position(),\n",
        "                           my_robot_arm.get_ang_velocity())\n",
        "    torques_interp.append(torque) # save torque so we can draw it\n",
        "    my_robot_arm.step_forward(torque)\n",
        "    ang_hist.append(my_robot_arm.get_ang_position()) # save angle so we can draw it\n",
        "\n",
        "display_results(goal_ang_interp)"
      ],
      "metadata": {
        "id": "0i3OOja0Pg3R",
        "colab": {
          "base_uri": "https://localhost:8080/",
          "height": 211
        },
        "outputId": "b8574041-e116-4182-f5d2-c451003f07c4"
      },
      "execution_count": null,
      "outputs": [
        {
          "output_type": "error",
          "ename": "NameError",
          "evalue": "name 'custom_goal_angle' is not defined",
          "traceback": [
            "\u001b[0;31m---------------------------------------------------------------------------\u001b[0m",
            "\u001b[0;31mNameError\u001b[0m                                 Traceback (most recent call last)",
            "\u001b[0;32m<ipython-input-19-f535fadf1d19>\u001b[0m in \u001b[0;36m<cell line: 22>\u001b[0;34m()\u001b[0m\n\u001b[1;32m     20\u001b[0m \u001b[0mtorques_interp\u001b[0m \u001b[0;34m=\u001b[0m \u001b[0;34m[\u001b[0m\u001b[0;34m]\u001b[0m\u001b[0;34m\u001b[0m\u001b[0;34m\u001b[0m\u001b[0m\n\u001b[1;32m     21\u001b[0m \u001b[0mang_hist\u001b[0m \u001b[0;34m=\u001b[0m \u001b[0;34m[\u001b[0m\u001b[0;34m]\u001b[0m\u001b[0;34m\u001b[0m\u001b[0;34m\u001b[0m\u001b[0m\n\u001b[0;32m---> 22\u001b[0;31m \u001b[0mgoal_ang_interp\u001b[0m \u001b[0;34m=\u001b[0m \u001b[0minterp_values\u001b[0m\u001b[0;34m(\u001b[0m\u001b[0mcustom_goal_angle\u001b[0m\u001b[0;34m.\u001b[0m\u001b[0mvalues\u001b[0m\u001b[0;34m,\u001b[0m \u001b[0mend_time\u001b[0m\u001b[0;34m,\u001b[0m \u001b[0mdt\u001b[0m\u001b[0;34m)\u001b[0m\u001b[0;34m\u001b[0m\u001b[0;34m\u001b[0m\u001b[0m\n\u001b[0m\u001b[1;32m     23\u001b[0m \u001b[0;34m\u001b[0m\u001b[0m\n\u001b[1;32m     24\u001b[0m \u001b[0;32mfor\u001b[0m \u001b[0mi\u001b[0m \u001b[0;32min\u001b[0m \u001b[0mrange\u001b[0m\u001b[0;34m(\u001b[0m\u001b[0mlist_len\u001b[0m\u001b[0;34m)\u001b[0m\u001b[0;34m:\u001b[0m\u001b[0;34m\u001b[0m\u001b[0;34m\u001b[0m\u001b[0m\n",
            "\u001b[0;31mNameError\u001b[0m: name 'custom_goal_angle' is not defined"
          ]
        }
      ]
    },
    {
      "cell_type": "markdown",
      "source": [
        "How'd you do?! Feel free to go back and try different custom goal sequences to really test the limits of your controller.\n",
        "\n",
        "One interesting thing to look at is the graph of torque on the right of the results. Do you think you could have come up with that by inputing the torque yourself? That is the magic of math and good controllers. A controller can accomplish even better results than a human, and the best part is it does it all on it's own! Even when we aren't watching!\n",
        "\n",
        "Controllers enable many amazing systems that are all around us and are essential to the exciting new tech in the future.  \n"
      ],
      "metadata": {
        "id": "6N6oLhlRRSVh"
      }
    },
    {
      "cell_type": "markdown",
      "source": [
        "# Take-home questions and exploration\n",
        "\n",
        "We have also included some code blocks below that allow you to mess around with more parameters for the goals, simulation, and controller.\n",
        "\n",
        "Here are some things you can try and questions you can explore:\n",
        "* Change the RobotArm parameters at the very beginning of this notebook like adjusting mass or length. How does it change the results with your controller?\n",
        "* We've also added the integrator to finish off the \"I\" of PID. When would the integrator be needed?\n",
        "* Try turning on gravity in the RobotArm and getting the arm to balance from different starting angles and mimicking the results from the presentation.\n",
        "* Did you notice how the torque from our controller can sometimes peak to extremely high values? What if our motor can't output that large of a torque? In the real world, motors have limits. You can turn on torque limits and play around with how much to limit your torque.\n",
        "* You can modify the amplitude of the square wave\n",
        "\n",
        "We hope you learned something new and enjoyed this Colab.\n",
        "\n",
        "We'd also really appreciate you taking the time to send us your feedback on this workshop through a one-question anonymous form [here](https://forms.gle/j5UVvXVqoniqXZVz5).\n",
        "\n",
        "\n",
        "\n",
        "\n",
        "\n"
      ],
      "metadata": {
        "id": "iiUx1AaVj66K"
      }
    },
    {
      "cell_type": "markdown",
      "source": [
        "### Controller\n"
      ],
      "metadata": {
        "id": "AkJOel0h_S0H"
      }
    },
    {
      "cell_type": "code",
      "source": [
        "class PID_Controller:\n",
        "\n",
        "    def __init__(self, k_p=1, k_i=0, k_d=0, limit_on=False, limit=0):\n",
        "        self.limit_on = limit_on\n",
        "        self.control_limit = limit\n",
        "        self.error_sum = 0\n",
        "\n",
        "        self.k_p = k_p\n",
        "        self.k_i = k_i\n",
        "        self.k_d = k_d\n",
        "\n",
        "    def p_control(self, desired_position, current_position):\n",
        "        error = desired_position-current_position\n",
        "        u = self.k_p*error\n",
        "        return self.limit_u(u)\n",
        "\n",
        "    def pd_control(self, desired_position, current_position, current_velocity):\n",
        "        error = desired_position-current_position\n",
        "        u = self.k_p*error - self.k_d*current_velocity\n",
        "        return self.limit_u(u)\n",
        "\n",
        "    def pid_control(self, desired_position, current_position, current_velocity):\n",
        "        error = desired_position-current_position\n",
        "        self.error_sum += error\n",
        "        u = self.k_p*error + self.k_i*self.error_sum - self.k_d*current_velocity\n",
        "        return self.limit_u(u)\n",
        "\n",
        "    def limit_u(self, u):\n",
        "        if self.limit_on:\n",
        "            return np.clip(u, -self.control_limit, self.control_limit)\n",
        "        else:\n",
        "            return u"
      ],
      "metadata": {
        "id": "rtCcEklj5McZ"
      },
      "execution_count": null,
      "outputs": []
    },
    {
      "cell_type": "markdown",
      "source": [
        "### Sim Loop"
      ],
      "metadata": {
        "id": "b8l1VdxskmNJ"
      }
    },
    {
      "cell_type": "code",
      "source": [
        "#@markdown How long you want the simulation to run for\n",
        "end_time = 15 #@param{type:\"slider\", min:5.0, max:30, step:1}\n",
        "#@markdown Goal trajectory type\n",
        "goal_traj_type = 'Square Wave' #@param [\"Square Wave\", \"Custom\"]\n",
        "#@markdown The length and height of each cycle of our square wave goal position\n",
        "period = 60 #@param{type:\"slider\", min:1, max: 60.0, step:1}\n",
        "amplitude = 1  #@param{type:\"slider\", min:0.0, max: 3.14, step:0.01}\n",
        "#@markdown The starting angle of the arm\n",
        "start_angle = 0.1 #@param{type:\"slider\", min:-3.14, max:3.14, step:0.1}\n",
        "#@markdown Toggle animation of figures on or off. Turning all off will result in quick results.\n",
        "animate_plots = True #@param{type:\"boolean\"}\n",
        "animate_sim = True #@param{type:\"boolean\"}\n",
        "\n",
        "dt = 0.05\n",
        "time_list = np.arange(0, end_time, dt)\n",
        "list_len = len(time_list)\n",
        "\n",
        "#@markdown PID Parameters\n",
        "P = 0.25 #@param{type:\"slider\", min:0.01, max:20.0, step:0.01}\n",
        "I = 0.001 #@param{type:\"slider\", min:0.0, max:5.0, step:0.01}\n",
        "D = 0.17 #@param{type:\"slider\", min:0.0, max:20.0, step:0.01}\n",
        "\n",
        "#@markdown Torque limits\n",
        "turn_on_torque_limits = True #@param{type:\"boolean\"}\n",
        "torque_limit = 1 #@param{type:\"slider\", min:0.01, max:20.0, step:0.01}\n",
        "\n",
        "# Initialize the RobotArm and save as my_robot_arm\n",
        "my_robot_arm = RobotArm(start_angle, dt)\n",
        "# Initialize our controller\n",
        "controller = PID_Controller(P, I, D, turn_on_torque_limits, torque_limit)\n",
        "\n",
        "torques_interp = []\n",
        "ang_hist = []\n",
        "if goal_traj_type=='Square Wave':\n",
        "    goal_ang_interp = amplitude*signal.square(2 * np.pi * time_list/period)\n",
        "else:\n",
        "    goal_ang_interp = interp_values(custom_goal_angle.values, end_time, dt)\n",
        "\n",
        "for i in range(list_len):\n",
        "    torque = controller.pid_control(goal_ang_interp[i],\n",
        "                                    my_robot_arm.get_ang_position(),\n",
        "                                    my_robot_arm.get_ang_velocity())\n",
        "    torques_interp.append(torque) # save torque so we can draw it\n",
        "    my_robot_arm.step_forward(torque)\n",
        "    ang_hist.append(my_robot_arm.get_ang_position()) # save angle so we can draw it\n",
        "\n",
        "display_results(goal_ang_interp)"
      ],
      "metadata": {
        "id": "TG4jCy2XtsnM",
        "colab": {
          "base_uri": "https://localhost:8080/",
          "height": 581,
          "referenced_widgets": [
            "1ede181ac555462a89d3e74e82ed62ab",
            "f4ba8b882b2f44ab9bfa2008ad1b0e46",
            "0cb935574b114afab491cfcf0288e3ed",
            "099cde06591c4fc08dcb9da7edfc64e8",
            "98bd36319c124665a1009cd9067a8422",
            "95343c4c01894fb2ac8df611df020527",
            "646f4eb0a10a466aa5c2d69430556bda",
            "9ad491bddf72420d96c057a990e1c710"
          ]
        },
        "outputId": "37d244b8-5319-41bb-b433-79cbf4f06cc1"
      },
      "execution_count": null,
      "outputs": [
        {
          "output_type": "stream",
          "name": "stderr",
          "text": [
            "<ipython-input-10-8c5c567d1136>:58: MatplotlibDeprecationWarning: Setting data with a non sequence type is deprecated since 3.7 and will be remove two minor releases later\n",
            "  line3.set_data(time_list[i], ang_hist[i])\n"
          ]
        },
        {
          "output_type": "stream",
          "name": "stdout",
          "text": [
            "65.24275374412537 sec\n"
          ]
        },
        {
          "output_type": "display_data",
          "data": {
            "text/plain": [
              "HBox(children=(Output(layout=Layout(border='1px solid black')), Output(layout=Layout(border='1px solid black')…"
            ],
            "application/vnd.jupyter.widget-view+json": {
              "version_major": 2,
              "version_minor": 0,
              "model_id": "1ede181ac555462a89d3e74e82ed62ab"
            }
          },
          "metadata": {}
        }
      ]
    },
    {
      "cell_type": "markdown",
      "source": [
        "which framework should i do tensorflow"
      ],
      "metadata": {
        "id": "0jBP97bOhWqQ"
      }
    }
  ]
}